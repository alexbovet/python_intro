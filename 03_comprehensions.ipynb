{
 "cells": [
  {
   "cell_type": "markdown",
   "metadata": {},
   "source": [
    "# Compréhensions\n",
    "\n",
    "Alexandre Bovet\n",
    "\n",
    "UNamur et UCLouvain\n"
   ]
  },
  {
   "cell_type": "markdown",
   "metadata": {},
   "source": [
    "### Compréhensions de listes\n",
    "\n",
    "- Spécialité de Python\n",
    "- Création d’une nouvelle liste L’ à partir d’une liste L en appliquant une fonction sur chaque élément de L"
   ]
  },
  {
   "cell_type": "code",
   "execution_count": null,
   "metadata": {
    "scrolled": true
   },
   "outputs": [],
   "source": [
    "a_list = [1, 9, 8, 4]\n",
    "[elem * 2 for elem in a_list]"
   ]
  },
  {
   "cell_type": "markdown",
   "metadata": {},
   "source": [
    "`a_list` est inchangée"
   ]
  },
  {
   "cell_type": "code",
   "execution_count": null,
   "metadata": {},
   "outputs": [],
   "source": [
    "a_list"
   ]
  },
  {
   "cell_type": "markdown",
   "metadata": {},
   "source": [
    "Affection de la nouvelle liste à `a_list`.\n",
    "Python construit la nouvelle liste en mémoire avant d’affecter le résultat\n"
   ]
  },
  {
   "cell_type": "code",
   "execution_count": null,
   "metadata": {},
   "outputs": [],
   "source": [
    "a_list = [elem * 2 for elem in a_list]\n",
    "a_list"
   ]
  },
  {
   "cell_type": "markdown",
   "metadata": {},
   "source": [
    "- On peut utiliser n’importe quelle expression Python dans une compréhension!"
   ]
  },
  {
   "cell_type": "code",
   "execution_count": null,
   "metadata": {},
   "outputs": [],
   "source": [
    "import os, glob \n",
    "glob.glob('*.ipynb') \n"
   ]
  },
  {
   "cell_type": "code",
   "execution_count": null,
   "metadata": {},
   "outputs": [],
   "source": [
    "[os.path.realpath(f) for f in glob.glob('*.ipynb')] #Transforme les noms en chemins absolu "
   ]
  },
  {
   "cell_type": "markdown",
   "metadata": {},
   "source": [
    "- Peut également servir de filtre"
   ]
  },
  {
   "cell_type": "code",
   "execution_count": null,
   "metadata": {},
   "outputs": [],
   "source": [
    "import os, glob\n",
    "[f for f in glob.glob('*.ipynb') if os.stat(f).st_size > 6000]"
   ]
  },
  {
   "cell_type": "code",
   "execution_count": null,
   "metadata": {},
   "outputs": [],
   "source": [
    "os.stat('01_intro_python_basis.ipynb')"
   ]
  },
  {
   "cell_type": "markdown",
   "metadata": {},
   "source": [
    "- `if` sert de filtre à la fin d’une compréhension\n",
    "- Condition évaluée pour chaque élément de la liste\n",
    "- `os.stat(f).st_size` retourne la taille du fichier en bytes"
   ]
  },
  {
   "cell_type": "markdown",
   "metadata": {},
   "source": [
    "- Expressions peuvent être (très) complexes!"
   ]
  },
  {
   "cell_type": "code",
   "execution_count": null,
   "metadata": {},
   "outputs": [],
   "source": [
    "import os, glob\n",
    "[(os.stat(f).st_size, os.path.realpath(f)) for f in glob.glob('*.ipynb')]"
   ]
  },
  {
   "cell_type": "code",
   "execution_count": null,
   "metadata": {},
   "outputs": [],
   "source": [
    "# Exercice: utilisez la fonction humansize pour transformer\n",
    "# la taille de fichier dans la comprehension de liste\n",
    "import humansize\n",
    "\n",
    "[(humansize.approximate_size(os.stat(f).st_size), os.path.realpath(f)) for f in glob.glob('*.ipynb')]"
   ]
  },
  {
   "cell_type": "markdown",
   "metadata": {},
   "source": [
    "#### Compréhensions de dictionnaires\n",
    "- Similaire à une compréhension de liste, mais construit un dictionnaire"
   ]
  },
  {
   "cell_type": "code",
   "execution_count": null,
   "metadata": {},
   "outputs": [],
   "source": [
    "metadata = [(f, os.stat(f)) for f in glob.glob('*.ipynb')]\n",
    "metadata[0]"
   ]
  },
  {
   "cell_type": "markdown",
   "metadata": {},
   "source": [
    "Pour un dictionaire, on utilise la syntax `{key:value}`"
   ]
  },
  {
   "cell_type": "code",
   "execution_count": null,
   "metadata": {},
   "outputs": [],
   "source": [
    "metadata_dict = {f:os.stat(f) for f in glob.glob('*.ipynb')}\n"
   ]
  },
  {
   "cell_type": "code",
   "execution_count": null,
   "metadata": {},
   "outputs": [],
   "source": [
    "type(metadata_dict)"
   ]
  },
  {
   "cell_type": "code",
   "execution_count": null,
   "metadata": {},
   "outputs": [],
   "source": [
    "list(metadata_dict.keys())"
   ]
  },
  {
   "cell_type": "code",
   "execution_count": null,
   "metadata": {},
   "outputs": [],
   "source": [
    "metadata_dict['03_comprehensions.ipynb'].st_size"
   ]
  },
  {
   "cell_type": "markdown",
   "metadata": {},
   "source": [
    "- Syntaxe peut aussi utiliser des `if` pour créer des filtres"
   ]
  },
  {
   "cell_type": "code",
   "execution_count": null,
   "metadata": {},
   "outputs": [],
   "source": [
    "import os, glob, humansize\n",
    "metadata_dict = {f:os.stat(f) for f in glob.glob('*')}"
   ]
  },
  {
   "cell_type": "code",
   "execution_count": null,
   "metadata": {},
   "outputs": [],
   "source": [
    "humansize_dict = {os.path.splitext(f)[0]:humansize.approximate_size(meta.st_size) \\\n",
    "    for f, meta in metadata_dict.items() if meta.st_size > 6000}"
   ]
  },
  {
   "cell_type": "code",
   "execution_count": null,
   "metadata": {
    "scrolled": true
   },
   "outputs": [],
   "source": [
    "list(humansize_dict.keys())"
   ]
  },
  {
   "cell_type": "code",
   "execution_count": null,
   "metadata": {},
   "outputs": [],
   "source": [
    "humansize_dict['03_comprehensions']"
   ]
  },
  {
   "cell_type": "markdown",
   "metadata": {},
   "source": [
    "- Utile pour échanger clés <-> valeurs\n",
    "- Attention si les valeurs ne sont pas unique -> perte d'information"
   ]
  },
  {
   "cell_type": "code",
   "execution_count": null,
   "metadata": {},
   "outputs": [],
   "source": [
    "a_dict = {'a': 1, 'b': 2, 'c': 3}\n",
    "{value:key for key, value in a_dict.items()}"
   ]
  },
  {
   "cell_type": "markdown",
   "metadata": {},
   "source": [
    "- MAIS ne fonctionne que quand valeurs sont uniques et immutables!"
   ]
  },
  {
   "cell_type": "code",
   "execution_count": null,
   "metadata": {},
   "outputs": [],
   "source": [
    "a_dict = {'a': [1, 2, 3], 'b': 4, 'c': 5}\n",
    "{value:key for key, value in a_dict.items()}"
   ]
  },
  {
   "cell_type": "markdown",
   "metadata": {},
   "source": [
    "#### Compréhensions d’ensembles\n",
    "- Syntaxe similaire aux compréhensions de dictionnaires\n",
    "- Unique différence: valeurs au lieux de paires (clé:valeurs)"
   ]
  },
  {
   "cell_type": "code",
   "execution_count": null,
   "metadata": {},
   "outputs": [],
   "source": [
    "a_set = set(range(10))\n",
    "a_set"
   ]
  },
  {
   "cell_type": "code",
   "execution_count": null,
   "metadata": {},
   "outputs": [],
   "source": [
    "{x ** 2 for x in a_set}"
   ]
  },
  {
   "cell_type": "code",
   "execution_count": null,
   "metadata": {
    "scrolled": true
   },
   "outputs": [],
   "source": [
    "{x for x in a_set if x % 2 == 0} "
   ]
  },
  {
   "cell_type": "code",
   "execution_count": null,
   "metadata": {},
   "outputs": [],
   "source": [
    "{2**x for x in range(10)} # N’importe quelle séquence en entrée (pas uniquement un set)"
   ]
  },
  {
   "cell_type": "code",
   "execution_count": null,
   "metadata": {},
   "outputs": [],
   "source": []
  }
 ],
 "metadata": {
  "kernelspec": {
   "display_name": "Python 3",
   "language": "python",
   "name": "python3"
  },
  "language_info": {
   "codemirror_mode": {
    "name": "ipython",
    "version": 3
   },
   "file_extension": ".py",
   "mimetype": "text/x-python",
   "name": "python",
   "nbconvert_exporter": "python",
   "pygments_lexer": "ipython3",
   "version": "3.6.4"
  }
 },
 "nbformat": 4,
 "nbformat_minor": 2
}
