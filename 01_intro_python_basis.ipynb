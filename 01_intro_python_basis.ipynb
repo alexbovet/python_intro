{
 "cells": [
  {
   "cell_type": "markdown",
   "metadata": {},
   "source": [
    "# Introduction à Python\n",
    "\n",
    "Alexandre Bovet\n",
    "\n",
    "UNamur et UCLouvain\n",
    "\n",
    "alexandre.bovet@unamur.be\n"
   ]
  },
  {
   "cell_type": "markdown",
   "metadata": {},
   "source": [
    "Ressources:\n",
    "- Dive into Python 3: http://www.diveintopython3.net/ \n",
    "- Documentation de Python 3 : https://docs.python.org/3/  \n",
    "- Stack Overflow et Google\n"
   ]
  },
  {
   "cell_type": "markdown",
   "metadata": {},
   "source": [
    "## Un premier programme : humansize.py"
   ]
  },
  {
   "cell_type": "code",
   "execution_count": null,
   "metadata": {},
   "outputs": [],
   "source": [
    "SUFFIXES = {1000: ['KB', 'MB', 'GB', 'TB', 'PB', 'EB', 'ZB', 'YB'],\n",
    "            1024: ['KiB', 'MiB', 'GiB', 'TiB', 'PiB', 'EiB', 'ZiB', 'YiB']}\n",
    "\n",
    "def approximate_size(size, a_kilobyte_is_1024_bytes=True):\n",
    "    \"\"\"Convert a file size to human-readable form.\n",
    "\n",
    "    Keyword arguments:\n",
    "    size -- file size in bytes\n",
    "    a_kilobyte_is_1024_bytes -- if True (default), use multiples of 1024\n",
    "                                if False, use multiples of 1000\n",
    "\n",
    "    Returns: string\n",
    "\n",
    "    \"\"\"\n",
    "    if size < 0:\n",
    "        raise ValueError('number must be non-negative')\n",
    "\n",
    "    multiple = 1024 if a_kilobyte_is_1024_bytes else 1000\n",
    "    for suffix in SUFFIXES[multiple]:\n",
    "        size /= multiple\n",
    "        if size < multiple:\n",
    "            return '{0:.1f} {1}'.format(size, suffix)\n",
    "\n",
    "    raise ValueError('number too large')\n",
    "\n",
    "\n",
    "print(approximate_size(1000000000000, False))\n",
    "print(approximate_size(1000000000000))"
   ]
  },
  {
   "cell_type": "markdown",
   "metadata": {},
   "source": [
    "## Déclarer des fonctions\n",
    "\n",
    "Python a des fonctions comme la plupart des autres langages, mais pas de fichier header!\n",
    "\n",
    "<span style=\"color:red\">Quand on a besoin d’une fonction, il suffit de la déclarer:</span>\n",
    "\n",
    "```python\n",
    "def approximate_size(size, a_kilobyte_is_1024_bytes=True):\n",
    "```\n",
    "\n",
    "- Pas de type de retour spécifiés: typage dynamique\n",
    "- retourne toujours une valeur\n",
    " - return\n",
    " - par défaut: `None`\n"
   ]
  },
  {
   "cell_type": "markdown",
   "metadata": {},
   "source": [
    "### Arguments optionnels et nommés\n",
    "- Les arguments peuvent avoir des valeurs par défaut\n",
    "- Si fonction appelée sans l’argument \n",
    " - valeur par défaut utilisée\n",
    " - argument OPTIONNEL"
   ]
  },
  {
   "cell_type": "markdown",
   "metadata": {},
   "source": [
    "Exemple:"
   ]
  },
  {
   "cell_type": "code",
   "execution_count": null,
   "metadata": {},
   "outputs": [],
   "source": [
    "print(approximate_size(1000000000000, False))\n",
    "print(approximate_size(1000000000000))\n"
   ]
  },
  {
   "cell_type": "markdown",
   "metadata": {},
   "source": [
    "- Les arguments peuvent être passé avec des noms:"
   ]
  },
  {
   "cell_type": "code",
   "execution_count": null,
   "metadata": {},
   "outputs": [],
   "source": [
    "approximate_size(4000, a_kilobyte_is_1024_bytes=False) "
   ]
  },
  {
   "cell_type": "code",
   "execution_count": null,
   "metadata": {},
   "outputs": [],
   "source": [
    "approximate_size(size=4000, a_kilobyte_is_1024_bytes=False) "
   ]
  },
  {
   "cell_type": "code",
   "execution_count": null,
   "metadata": {},
   "outputs": [],
   "source": [
    "approximate_size(a_kilobyte_is_1024_bytes=False, size=4000)"
   ]
  },
  {
   "cell_type": "code",
   "execution_count": null,
   "metadata": {},
   "outputs": [],
   "source": [
    "approximate_size(a_kilobyte_is_1024_bytes=False, 4000) "
   ]
  },
  {
   "cell_type": "code",
   "execution_count": null,
   "metadata": {},
   "outputs": [],
   "source": [
    "approximate_size(size=4000, False)"
   ]
  },
  {
   "cell_type": "markdown",
   "metadata": {},
   "source": [
    "<span style=\"color:red\">Tous les arguments à droite d’un argument nommé doivent être nommés!</span>"
   ]
  },
  {
   "cell_type": "markdown",
   "metadata": {},
   "source": [
    "# Ecrire du code lisible\n",
    "- Un code est écrit 1 fois, mais lu plusieurs fois… par l’auteur!\n",
    "\n",
    "- Un code lisible permets de s’y replonger facilement 6 mois plus tard, quand on a tout oublié, ou pour corriger un bug\n",
    "\n",
    "- Python permet d’écrire facilement du code lisible\n"
   ]
  },
  {
   "cell_type": "markdown",
   "metadata": {},
   "source": [
    "## docstrings\n",
    "\n",
    "- Commentaires multiligne grace au triple guillemets: `\"\"\"`\n",
    "- Chaque fonction doit avoir un docstring décent.\n",
    "- Utilisé par certain IDE pour donner de la documentation en ligne.\n",
    "\n",
    "```python\n",
    "def approximate_size(size, a_kilobyte_is_1024_bytes=True):\n",
    "    '''Convert a file size to human-readable form.\n",
    "\n",
    "    Keyword arguments:\n",
    "    size -- file size in bytes\n",
    "    a_kilobyte_is_1024_bytes -- if True (default), use multiples of 1024\n",
    "                                if False, use multiples of 1000\n",
    "\n",
    "    Returns: string\n",
    "\n",
    "    '''\n",
    "```"
   ]
  },
  {
   "cell_type": "markdown",
   "metadata": {},
   "source": [
    "# Importer des fonctions\n",
    "- Python regarde dans plusieurs répertoires pour importer un module (i.e. un ensemble de fonctions)\n",
    "- Définis dans sys.path"
   ]
  },
  {
   "cell_type": "code",
   "execution_count": null,
   "metadata": {},
   "outputs": [],
   "source": [
    "import sys \n",
    "sys.path "
   ]
  },
  {
   "cell_type": "code",
   "execution_count": null,
   "metadata": {},
   "outputs": [],
   "source": [
    "sys"
   ]
  },
  {
   "cell_type": "markdown",
   "metadata": {},
   "source": [
    "## Chemins pour import\n",
    "- Modification aisées (mais temporaires!)"
   ]
  },
  {
   "cell_type": "code",
   "execution_count": null,
   "metadata": {},
   "outputs": [],
   "source": [
    "sys.path.insert(0, '/home/you/mypythonproject/examples')"
   ]
  },
  {
   "cell_type": "code",
   "execution_count": null,
   "metadata": {},
   "outputs": [],
   "source": [
    "sys.path"
   ]
  },
  {
   "cell_type": "markdown",
   "metadata": {},
   "source": [
    "# Programmation orienté objet\n",
    "- Objet = structure de donnée\n",
    " - Attributs\n",
    " - Méthodes\n",
    " - Créé à partir d’un modèle = classe"
   ]
  },
  {
   "cell_type": "markdown",
   "metadata": {},
   "source": [
    " Exemple:\n",
    " \n",
    " - classe:\n",
    " \n",
    " \n",
    "| Student |\n",
    "|---------|\n",
    "| Age : int |\n",
    "|Gender : string|\n",
    "|Grades : float|\n",
    "|SetGrades(float)|\n",
    "|Print()|\n",
    "\n",
    "- objets: instances de la classe\n",
    "\n",
    "```python\n",
    "Jean = Student()\n",
    "Marie = Student()\n",
    "```\n",
    "\n",
    " "
   ]
  },
  {
   "cell_type": "markdown",
   "metadata": {},
   "source": [
    "## Tout est objet!"
   ]
  },
  {
   "cell_type": "markdown",
   "metadata": {},
   "source": [
    "En Python, tout est objet!\n",
    "- Classes, instances de classes, modules, fonctions, strings, lists,…\n",
    "\n",
    "- Tout peut avoir des attributs et des méthodes.\n",
    "\n",
    "Exemples :\n",
    "- fonctions ont un attribut `__doc__`\n",
    "- Modules ont un attribut `path`\n",
    "- List ont une méthode `insert`\n",
    "\n",
    "=> Tout peut être assigné à une variable et passé en argument!\n",
    "\n",
    "\n",
    "Une **fonction**, comme le reste, est un objet => Possède des attributs\n",
    "\n"
   ]
  },
  {
   "cell_type": "code",
   "execution_count": null,
   "metadata": {},
   "outputs": [],
   "source": [
    "import humansize \n",
    "print(humansize.approximate_size(4096, True)) "
   ]
  },
  {
   "cell_type": "code",
   "execution_count": null,
   "metadata": {},
   "outputs": [],
   "source": [
    "print(humansize.approximate_size.__doc__)  \n"
   ]
  },
  {
   "cell_type": "code",
   "execution_count": null,
   "metadata": {},
   "outputs": [],
   "source": [
    "humansize.approximate_size.__base__()\n"
   ]
  },
  {
   "cell_type": "markdown",
   "metadata": {},
   "source": [
    "# Indentation du code\n",
    "Pas de `begin`, `end` ou `{}` pour marquer début/fin de blocs.\n",
    "- Seuls délimiteur: `:` et indentation!\n",
    "\n",
    "- Nombre d’espace pas important, mais doit être consitent (habituellement 4 espaces)\n",
    "\n",
    "\n",
    "```python\n",
    "    if size < 0:\n",
    "        raise ValueError('number must be non-negative')\n",
    "\n",
    "    multiple = 1024 if a_kilobyte_is_1024_bytes else 1000\n",
    "    for suffix in SUFFIXES[multiple]:\n",
    "        size /= multiple\n",
    "        if size < multiple:\n",
    "            return '{0:.1f} {1}'.format(size, suffix)\n",
    "\n",
    "    raise ValueError('number too large')\n",
    "```        \n"
   ]
  },
  {
   "cell_type": "markdown",
   "metadata": {},
   "source": [
    "# Exceptions\n",
    "- Le plus souvent une indication qu’une erreur s’est produite\n",
    "- Permet de la traiter (et de ne pas crasher le code)\n",
    "- Utilisé partout dans Python\n",
    "\n",
    "### Exceptions non traitées:\n",
    "- Remonte au Shell\n",
    "- Imprime des infos de débuggage\n",
    "- Stoppe le programme\n",
    "\n",
    "### Exceptions traitées:\n",
    "- Parfois, on peut anticiper les exceptions possibles\n",
    " - Base de donnée non disponible, fichier non trouvé, module non installé,…\n",
    "\n",
    "- Instruction `raise`:"
   ]
  },
  {
   "cell_type": "code",
   "execution_count": null,
   "metadata": {},
   "outputs": [],
   "source": [
    "size = -1 \n",
    "if size < 0:\n",
    "    raise ValueError('number must be non-negative') \n",
    "    #     type        message informatif\n",
    "    "
   ]
  },
  {
   "cell_type": "markdown",
   "metadata": {},
   "source": [
    "On peut alors les traiter dans la fonction appelante\n",
    "- Bloc `try` … `except`\n",
    "\n",
    "Sinon l’exception remonte au niveau supérieur (jusqu’à stopper le programme)\n"
   ]
  },
  {
   "cell_type": "markdown",
   "metadata": {},
   "source": [
    "### Exemple: Récupérer les erreurs d’imports\n",
    "\n",
    "`ImportError`: erreur lors de l’import d’un module, typiquement module non présent dans `sys.path`.\n",
    "\n",
    "Possibilités:\n",
    "\n",
    "- Stopper le programme\n",
    "- Continuer le programme en n’utilisant pas le module:\n"
   ]
  },
  {
   "cell_type": "code",
   "execution_count": null,
   "metadata": {},
   "outputs": [],
   "source": [
    "try:\n",
    "    import chardet\n",
    "except ImportError:\n",
    "    chardet = None\n",
    "\n",
    "# partie de code qui n'utilise pas le module chardet\n",
    "\n",
    "if chardet:\n",
    "    # do something\n",
    "    print(chardet)\n",
    "else:\n",
    "    # continue anyway \n",
    "    print(chardet)"
   ]
  },
  {
   "cell_type": "code",
   "execution_count": null,
   "metadata": {},
   "outputs": [],
   "source": [
    "chardet"
   ]
  },
  {
   "cell_type": "code",
   "execution_count": null,
   "metadata": {},
   "outputs": [],
   "source": [
    "try:\n",
    "    from lxml import etree\n",
    "except ImportError:\n",
    "    import xml.etree.ElementTree as etree"
   ]
  },
  {
   "cell_type": "markdown",
   "metadata": {},
   "source": [
    "### Variables orphelines\n",
    "- Pas de déclaration de variables en Python\n",
    "- On affecte simplement une valeur aux variables\n",
    "\n",
    "Exemple:"
   ]
  },
  {
   "cell_type": "code",
   "execution_count": null,
   "metadata": {},
   "outputs": [],
   "source": [
    "a_kilobyte_is_1024_bytes = False\n",
    "multiple = 1024 if a_kilobyte_is_1024_bytes else 1000\n",
    "print(multiple)\n",
    "type(multiple)"
   ]
  },
  {
   "cell_type": "markdown",
   "metadata": {},
   "source": [
    "Mais on ne peut pas référencer une variable qui n’a jamais reçu une valeur:\n",
    "=> `ǸameError`"
   ]
  },
  {
   "cell_type": "code",
   "execution_count": null,
   "metadata": {},
   "outputs": [],
   "source": [
    "x"
   ]
  },
  {
   "cell_type": "code",
   "execution_count": null,
   "metadata": {},
   "outputs": [],
   "source": [
    "x = 1 \n",
    "x"
   ]
  },
  {
   "cell_type": "markdown",
   "metadata": {},
   "source": [
    "### La casse est importante\n",
    "- Tous les noms sont sensibles à la casse: Fonctions, variables, classes, modules, exceptions.\n"
   ]
  },
  {
   "cell_type": "code",
   "execution_count": null,
   "metadata": {},
   "outputs": [],
   "source": [
    "an_integer = 1 \n",
    "an_integer"
   ]
  },
  {
   "cell_type": "code",
   "execution_count": null,
   "metadata": {},
   "outputs": [],
   "source": [
    "AN_INTEGER"
   ]
  },
  {
   "cell_type": "markdown",
   "metadata": {},
   "source": [
    "# Executer des scripts\n",
    "- Chaque module a un attribut `__name__`.\n",
    "- Ctiliser `if __name__ == '__main__'` pour écrire des blocs de code qui ne s'executent seulement lorsque le script est executer comme programme mais pas lorsqu'il est importer comme module."
   ]
  },
  {
   "cell_type": "code",
   "execution_count": null,
   "metadata": {},
   "outputs": [],
   "source": [
    "__name__"
   ]
  },
  {
   "cell_type": "code",
   "execution_count": null,
   "metadata": {
    "scrolled": true
   },
   "outputs": [],
   "source": [
    "import humansize\n",
    "humansize.__name__"
   ]
  },
  {
   "cell_type": "markdown",
   "metadata": {},
   "source": [
    "Si vous executer le script depuis le terminal:"
   ]
  },
  {
   "cell_type": "code",
   "execution_count": null,
   "metadata": {},
   "outputs": [],
   "source": [
    "!python humansize.py"
   ]
  },
  {
   "cell_type": "code",
   "execution_count": null,
   "metadata": {},
   "outputs": [],
   "source": []
  }
 ],
 "metadata": {
  "kernelspec": {
   "display_name": "Python 3",
   "language": "python",
   "name": "python3"
  },
  "language_info": {
   "codemirror_mode": {
    "name": "ipython",
    "version": 3
   },
   "file_extension": ".py",
   "mimetype": "text/x-python",
   "name": "python",
   "nbconvert_exporter": "python",
   "pygments_lexer": "ipython3",
   "version": "3.6.4"
  }
 },
 "nbformat": 4,
 "nbformat_minor": 2
}
