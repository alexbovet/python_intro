{
 "cells": [
  {
   "cell_type": "markdown",
   "metadata": {},
   "source": [
    "# Contrôle de flux\n",
    "\n",
    "Alexandre Bovet\n",
    "\n",
    "UNamur et UCLouvain\n",
    "\n",
    "alexandre.bovet@unamur.be"
   ]
  },
  {
   "cell_type": "markdown",
   "metadata": {},
   "source": [
    "## Opérations booléennes\n",
    "\n",
    "\n",
    "| Opération | Résultat |\n",
    "|-----------|----------:|\n",
    "| `x or y`  | ou       |\n",
    "|`x and y`  | et |\n",
    "| `not x`   | non x, priorité basse: `not a == b` interprété  `not (a == b)` |\n",
    "| `<`       | plus petit |\n",
    "| `<=`      | plus petit ou égal|\n",
    "| `>`       | plus grand|\n",
    "| `>=`      | plus grand ou égal|\n",
    "| `==`      | égal |\n",
    "| `!=`      | différent |\n",
    "| `is`      | identité pour les objets|\n",
    "| `is not`  | négation de l’identité pour les objets|\n",
    "| `del`     | suppresion de la variable de l’espace de travail|\n"
   ]
  },
  {
   "cell_type": "markdown",
   "metadata": {},
   "source": [
    "## instructions conditionnelles`if` … `then` … `else` …\n"
   ]
  },
  {
   "cell_type": "code",
   "execution_count": null,
   "metadata": {},
   "outputs": [],
   "source": [
    "x = int(input(\"Please enter an integer: \"))  \n",
    "  \n",
    "if x < 0:  \n",
    "    x = 0  \n",
    "    print('Negative changed to zero')  \n",
    "elif x == 0:  \n",
    "    print('Zero')  \n",
    "elif x == 1:  \n",
    "    print('Single')  \n",
    "else:  \n",
    "    print('More')  "
   ]
  },
  {
   "cell_type": "markdown",
   "metadata": {},
   "source": [
    "- Remplace également les `switch` … `case` trouvés dans d’autres langages de programmation"
   ]
  },
  {
   "cell_type": "markdown",
   "metadata": {},
   "source": [
    "## boucles `for`"
   ]
  },
  {
   "cell_type": "code",
   "execution_count": null,
   "metadata": {},
   "outputs": [],
   "source": [
    "words = ['cat', 'window', 'defenestrate']  \n",
    "for w in words:  \n",
    "    print(w, len(w))"
   ]
  },
  {
   "cell_type": "markdown",
   "metadata": {},
   "source": [
    "- Si on veut modifier la séquence => copie!\n",
    "- `[:]` permet de créer une copie de toute la liste words\n"
   ]
  },
  {
   "cell_type": "code",
   "execution_count": null,
   "metadata": {},
   "outputs": [],
   "source": [
    "for w in words[:]:  \n",
    "    if len(w) > 6:  \n",
    "        words.insert(0, w) \n",
    "words"
   ]
  },
  {
   "cell_type": "markdown",
   "metadata": {},
   "source": [
    "#### fonction built-in `range(start, stop[, step])`:"
   ]
  },
  {
   "cell_type": "code",
   "execution_count": null,
   "metadata": {},
   "outputs": [],
   "source": [
    "for i in range(5):  \n",
    "    print(i)"
   ]
  },
  {
   "cell_type": "code",
   "execution_count": null,
   "metadata": {},
   "outputs": [],
   "source": [
    "a = ['Mary', 'had', 'a', 'little', 'lamb']  \n",
    "for i in range(len(a)):  \n",
    "    print(i, a[i])"
   ]
  },
  {
   "cell_type": "markdown",
   "metadata": {},
   "source": [
    "`range` ne construit pas toute la liste, mais uniquement les objets quand on en a besoin."
   ]
  },
  {
   "cell_type": "code",
   "execution_count": null,
   "metadata": {},
   "outputs": [],
   "source": [
    "print(range(5, 10))\n",
    "\n",
    "print(list(range(5, 10)))"
   ]
  },
  {
   "cell_type": "code",
   "execution_count": null,
   "metadata": {},
   "outputs": [],
   "source": [
    "print(list((0, 10, 3)))\n",
    "  \n",
    "print(list(range(-10, -100, -30)))"
   ]
  },
  {
   "cell_type": "markdown",
   "metadata": {},
   "source": [
    "#### fonction built-in ` enumerate(iterable, start=0)`:"
   ]
  },
  {
   "cell_type": "code",
   "execution_count": null,
   "metadata": {},
   "outputs": [],
   "source": [
    "seasons = ['Spring', 'Summer', 'Fall', 'Winter']\n",
    "for i, season in enumerate(seasons):\n",
    "    print(season + ' is number ' + str(i))"
   ]
  },
  {
   "cell_type": "markdown",
   "metadata": {},
   "source": [
    "## boucles `while`"
   ]
  },
  {
   "cell_type": "code",
   "execution_count": null,
   "metadata": {},
   "outputs": [],
   "source": [
    "# Série de Fibonacci \n",
    "a, b = 0, 1  \n",
    "while b < 10:  \n",
    "    print(b)  \n",
    "    a, b = b, a+b  "
   ]
  },
  {
   "cell_type": "markdown",
   "metadata": {},
   "source": [
    "## Sortie de boucle: `break`, `continue` et `pass`\n",
    "\n",
    "- break quitte la boucle la plus proche\n",
    "- clause `else` exécutée \n",
    " - à la fin d’une boucle `for` sauf après `break`\n",
    " - quand la condition `while` devient `False`\n"
   ]
  },
  {
   "cell_type": "code",
   "execution_count": null,
   "metadata": {},
   "outputs": [],
   "source": [
    "for n in range(2, 10):  \n",
    "    for x in range(2, n): \n",
    "        if n % x == 0:  \n",
    "            print(n, 'equals', x, '*', n//x)  \n",
    "            break  \n",
    "    else:  \n",
    "        # on a pas trouvé de facteurs\n",
    "        print(n, 'is a prime number') "
   ]
  },
  {
   "cell_type": "markdown",
   "metadata": {},
   "source": [
    "- Exercice: réecrivez l'exemple ci-dessus en remplaçant la boucle `for` par une boucle `while`"
   ]
  },
  {
   "cell_type": "code",
   "execution_count": null,
   "metadata": {},
   "outputs": [],
   "source": [
    "### entrez le code ici"
   ]
  },
  {
   "cell_type": "markdown",
   "metadata": {},
   "source": [
    "- `continue` va à l’itération suivante:"
   ]
  },
  {
   "cell_type": "code",
   "execution_count": null,
   "metadata": {},
   "outputs": [],
   "source": [
    "for num in range(2, 10):  \n",
    "    if num % 2 == 0:  \n",
    "        print(\"Found an even number\", num)  \n",
    "        continue  \n",
    "    print(\"Found a number\", num)  "
   ]
  },
  {
   "cell_type": "markdown",
   "metadata": {},
   "source": [
    "- `pass`\n",
    " - Ne fait rien!\n",
    " - Utile quand une déclaration est nécessaire, mais que le programme ne doit faire aucune action… \n",
    " - Ou qu’une fonction est en cours d’implémentation\n",
    " \n",
    "```python\n",
    "while True:  \n",
    "    pass  # boucle infinie  \n",
    "  \n",
    "class MyEmptyClass:  \n",
    "    pass  \n",
    "  \n",
    "def initlog(*args): # *args permet de passer un nombre d‘arguments variables\n",
    "    pass   # todo \n",
    "```"
   ]
  }
 ],
 "metadata": {
  "kernelspec": {
   "display_name": "Python 3",
   "language": "python",
   "name": "python3"
  },
  "language_info": {
   "codemirror_mode": {
    "name": "ipython",
    "version": 3
   },
   "file_extension": ".py",
   "mimetype": "text/x-python",
   "name": "python",
   "nbconvert_exporter": "python",
   "pygments_lexer": "ipython3",
   "version": "3.6.4"
  }
 },
 "nbformat": 4,
 "nbformat_minor": 2
}
