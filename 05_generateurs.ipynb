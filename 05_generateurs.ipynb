{
 "cells": [
  {
   "cell_type": "markdown",
   "metadata": {},
   "source": [
    "# Closures et Générateurs\n",
    "\n",
    "Alexandre Bovet\n",
    "\n",
    "UNamur et UCLouvain\n",
    "\n",
    "alexandre.bovet@unamur.be\n"
   ]
  },
  {
   "cell_type": "markdown",
   "metadata": {},
   "source": [
    "### Liste de fonctions\n",
    "\n",
    "Continuons la construction d’un code pour le pluriel des mots anglais\n",
    "\n",
    "- Pour le moment: une liste de règles\n",
    "- Ajoutons un niveau d’abstraction et compliquons un peu le tout:\n",
    " - 1 fonction par recherche de correspondance\n",
    " - 1 fonction par substitution\n",
    "\n"
   ]
  },
  {
   "cell_type": "code",
   "execution_count": null,
   "metadata": {},
   "outputs": [],
   "source": [
    "import re\n",
    "\n",
    "def match_sxz(noun):\n",
    "    return re.search('[sxz]$', noun)\n",
    "\n",
    "def apply_sxz(noun):\n",
    "    return re.sub('$', 'es', noun)\n",
    "\n",
    "def match_h(noun):\n",
    "    return re.search('[^aeioudgkprt]h$', noun)\n",
    "\n",
    "def apply_h(noun):\n",
    "    return re.sub('$', 'es', noun)\n",
    "\n",
    "def match_y(noun):                             \n",
    "    return re.search('[^aeiou]y$', noun)\n",
    "        \n",
    "def apply_y(noun):                             \n",
    "    return re.sub('y$', 'ies', noun)\n",
    "\n",
    "def match_default(noun):\n",
    "    return True\n",
    "\n",
    "def apply_default(noun):\n",
    "    return noun + 's'\n",
    "\n",
    "# Tuple de paires de fonctions (match, apply)\n",
    "rules = ((match_sxz, apply_sxz),               \n",
    "         (match_h, apply_h),\n",
    "         (match_y, apply_y),\n",
    "         (match_default, apply_default)\n",
    "         )\n",
    "\n",
    "# plural() réduit à quelques lignes: boucle sur rules \n",
    "# la fonction va toujours retourner quelque chose puisque la\n",
    "# dernière matche_rule est toujours True\n",
    "def plural(noun):           \n",
    "    for matches_rule, apply_rule in rules:      \n",
    "        if matches_rule(noun):\n",
    "            return apply_rule(noun)"
   ]
  },
  {
   "cell_type": "code",
   "execution_count": null,
   "metadata": {},
   "outputs": [],
   "source": [
    "# fonction equivalente:\n",
    "def plural_long(noun):\n",
    "    if match_sxz(noun):\n",
    "        return apply_sxz(noun)\n",
    "    if match_h(noun):\n",
    "        return apply_h(noun)\n",
    "    if match_y(noun):\n",
    "        return apply_y(noun)\n",
    "    if match_default(noun):\n",
    "        return apply_default(noun)"
   ]
  },
  {
   "cell_type": "markdown",
   "metadata": {},
   "source": [
    "##### Liste de patterns\n",
    "- Définition de fonctions pour chaque règle pas nécessaire\n",
    " - On ne les appelle pas directement\n",
    " - Fonction similaires: uniquement expressions régulières différentes\n",
    " \n",
    "```python\n",
    "def match_y(noun):                             \n",
    "    return re.search('[^aeiou]y$', noun)\n",
    "        \n",
    "def apply_y(noun):                             \n",
    "    return re.sub('y$', 'ies', noun)\n",
    "```\n",
    "\n",
    "=> Génération de fonctions et liste de patterns!\n"
   ]
  },
  {
   "cell_type": "code",
   "execution_count": null,
   "metadata": {},
   "outputs": [],
   "source": [
    "import re\n",
    "\n",
    "def build_match_and_apply_functions(pattern, search, replace):\n",
    "\n",
    "    def matches_rule(word):                \n",
    "        return re.search(pattern, word)\n",
    "\n",
    "\n",
    "    def apply_rule(word):  \n",
    "        return re.sub(search, replace, word)\n",
    "\n",
    "\n",
    "    return (matches_rule, apply_rule)"
   ]
  },
  {
   "cell_type": "markdown",
   "metadata": {},
   "source": [
    "- `marches_rules` et `apply_rule` sont des **fonctions imbriquées** (nested functions): fonction dont la définition est encapsulée dans une autre fonction.\n",
    "\n",
    "- Paramètres `pattern`, `search` et `replace` sont passés à une fonctions imbriquées comme constantes (pas comme arguments): **Closure**\n",
    " - lorsqu'on appelle `build_match_and_apply_functions`, les variables `pattern`, `search` et `replace` sont gardées en vie même après que la fonction ait retournée.\n"
   ]
  },
  {
   "cell_type": "markdown",
   "metadata": {},
   "source": [
    "##### Mise en pratique"
   ]
  },
  {
   "cell_type": "code",
   "execution_count": null,
   "metadata": {},
   "outputs": [],
   "source": [
    "patterns = (\n",
    "            ('[sxz]$',           '$',  'es'),\n",
    "            ('[^aeioudgkprt]h$', '$',  'es'),\n",
    "            ('(qu|[^aeiou])y$',  'y$', 'ies'),\n",
    "            ('$',                '$',  's')                                \n",
    "          )\n",
    "    \n",
    "rules = [build_match_and_apply_functions(pattern, search, replace)\n",
    "         for (pattern, search, replace) in patterns]\n",
    "\n",
    "def plural(noun):\n",
    "    for matches_rule, apply_rule in rules:\n",
    "        if matches_rule(noun):\n",
    "            return apply_rule(noun)"
   ]
  },
  {
   "cell_type": "markdown",
   "metadata": {},
   "source": [
    "##### Un fichier de patterns\n",
    "\n",
    "Fichier plural-rules.txt:\n",
    "\n",
    "```\n",
    "[sxz]$               $    es\n",
    "[^aeioudgkprt]h$     $    es\n",
    "[^aeiou]y$          y$    ies\n",
    "$  $    s \n",
    "```"
   ]
  },
  {
   "cell_type": "code",
   "execution_count": null,
   "metadata": {},
   "outputs": [],
   "source": [
    "rules = []\n",
    "\n",
    "with open('examples/plural_rules.txt', encoding='utf-8') as pattern_file: \n",
    "    for line in pattern_file:                                     \n",
    "        pattern, search, replace = line.split(None, 3)            \n",
    "        rules.append(build_match_and_apply_functions(pattern, search, replace))\n",
    "\n",
    "def plural(noun):\n",
    "    for matches_rule, apply_rule in rules:\n",
    "        if matches_rule(noun):\n",
    "            return apply_rule(noun)        \n",
    "        "
   ]
  },
  {
   "cell_type": "markdown",
   "metadata": {},
   "source": [
    "=> Codes et données bien séparées !"
   ]
  },
  {
   "cell_type": "markdown",
   "metadata": {},
   "source": [
    "### Générateurs\n",
    "\n",
    "`yield` : définit fonction spéciale generator\n",
    "- génération de valeurs successives\n",
    "- 1 valeur à la fois\n",
    "- pause la fonction\n"
   ]
  },
  {
   "cell_type": "code",
   "execution_count": null,
   "metadata": {},
   "outputs": [],
   "source": [
    "def make_counter(x): \n",
    "    print('entering make_counter') \n",
    "    while True: \n",
    "        yield x \n",
    "        print('incrementing x') \n",
    "        x = x + 1 "
   ]
  },
  {
   "cell_type": "markdown",
   "metadata": {},
   "source": [
    "Création d’une instance du générateur (mais n’exécute pas de code!)"
   ]
  },
  {
   "cell_type": "code",
   "execution_count": null,
   "metadata": {},
   "outputs": [],
   "source": [
    "counter = make_counter(2)\n",
    "counter"
   ]
  },
  {
   "cell_type": "markdown",
   "metadata": {},
   "source": [
    "`next` prend un générateur et retourne la valeur suivante -> redémarre la fonction à partir de et jusqu’à `yield`"
   ]
  },
  {
   "cell_type": "code",
   "execution_count": null,
   "metadata": {},
   "outputs": [],
   "source": [
    "next(counter)"
   ]
  },
  {
   "cell_type": "markdown",
   "metadata": {},
   "source": [
    "##### Générateur: Suite de Fibonacci"
   ]
  },
  {
   "cell_type": "code",
   "execution_count": null,
   "metadata": {},
   "outputs": [],
   "source": [
    "def fib(max):\n",
    "\n",
    "    # condition initiales\n",
    "    a, b = 0, 1  \n",
    "        \n",
    "    while a < max:\n",
    "        yield a # retourne la valeur courante a chaque iteration\n",
    "        a, b = b, a + b"
   ]
  },
  {
   "cell_type": "markdown",
   "metadata": {},
   "source": [
    "Utilisation d’un générateur dans une boucle `for`:"
   ]
  },
  {
   "cell_type": "code",
   "execution_count": null,
   "metadata": {},
   "outputs": [],
   "source": [
    "for n in fib(1000): \n",
    "    print(n, end=' ')"
   ]
  },
  {
   "cell_type": "markdown",
   "metadata": {},
   "source": [
    "Itération automatique sur tout le générateur et retourne une liste:"
   ]
  },
  {
   "cell_type": "code",
   "execution_count": null,
   "metadata": {},
   "outputs": [],
   "source": [
    "list(fib(1000))"
   ]
  },
  {
   "cell_type": "markdown",
   "metadata": {},
   "source": [
    "#####  Retour au pluriel des mots"
   ]
  },
  {
   "cell_type": "code",
   "execution_count": null,
   "metadata": {},
   "outputs": [],
   "source": [
    "def rules(rules_filename):\n",
    "    with open(rules_filename, encoding='utf-8') as pattern_file:\n",
    "        for line in pattern_file:\n",
    "            pattern, search, replace = line.split(None, 3)\n",
    "            yield build_match_and_apply_functions(pattern, search, replace)\n"
   ]
  },
  {
   "cell_type": "markdown",
   "metadata": {},
   "source": [
    "- `yield` pour la construction des paires de fonctions\n",
    " - `rules` = generateur!\n",
    " - => Utilisation dans `for`"
   ]
  },
  {
   "cell_type": "code",
   "execution_count": null,
   "metadata": {},
   "outputs": [],
   "source": [
    "def plural(noun, rules_filename='examples/plural_rules.txt'):\n",
    "    for matches_rule, apply_rule in rules(rules_filename):\n",
    "        if matches_rule(noun):\n",
    "            return apply_rule(noun)\n",
    "    raise ValueError('no matching rule for {0}'.format(noun)) \n"
   ]
  },
  {
   "cell_type": "markdown",
   "metadata": {},
   "source": [
    "Au 1er appelle à `rules` va ouvrir le ficher, lire la 1ère ligne et retourner les fonctions match et apply. \n",
    "Au 2ème appelle, `rules` va reprendre la ou il en était. Le fichier et toujours ouvert.\n",
    "\n",
    "- Gain: temps, mémoire (on ne lit pas forcement tout le fichier)\n",
    "- Perte: performance (on ouvre le fichier à chaque appelle de plural)\n",
    "\n",
    "Solution: construire son propre itérateur!"
   ]
  }
 ],
 "metadata": {
  "kernelspec": {
   "display_name": "Python 3",
   "language": "python",
   "name": "python3"
  },
  "language_info": {
   "codemirror_mode": {
    "name": "ipython",
    "version": 3
   },
   "file_extension": ".py",
   "mimetype": "text/x-python",
   "name": "python",
   "nbconvert_exporter": "python",
   "pygments_lexer": "ipython3",
   "version": "3.6.4"
  }
 },
 "nbformat": 4,
 "nbformat_minor": 2
}
