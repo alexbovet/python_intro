{
 "cells": [
  {
   "cell_type": "markdown",
   "metadata": {},
   "source": [
    "# Expressions régulières\n",
    "\n",
    "Alexandre Bovet\n",
    "\n",
    "UNamur et UCLouvain\n",
    "\n",
    "alexandre.bovet@unamur.be\n"
   ]
  },
  {
   "cell_type": "markdown",
   "metadata": {},
   "source": [
    "### Strings et expressions régulières\n",
    "Plusieurs méthodes très utiles:\n",
    "- `index()`\n",
    "- `split()`\n",
    "- `count()`\n",
    "- `replace()`\n",
    "- `strip()`\n",
    "- …\n",
    "\n",
    "Mais limitées à des cas simples!\n",
    "\n",
    "Si méthodes pour les string conviennent, alors on les utilise!\n",
    "\n",
    "Mais si utilisation devient complexe => Expressions régulières!\n"
   ]
  },
  {
   "cell_type": "markdown",
   "metadata": {},
   "source": [
    "### Expressions régulières\n",
    "\n",
    "- Méthode standardisée et très puissante pour rechercher et remplacer des motifs/patterns complexes de caractères dans des strings\n",
    "\n",
    "- Syntaxe peut être *spéciale* (mais Python permet de les commenter)\n",
    "\n",
    "- Exemple: numéros de téléphone 0XX.XX.XX.XX :\n",
    "       `^0[0-9]{2}(.[0-9]{2}){4}`\n",
    "       \n",
    "\"Some people, when confronted with a problem, think “I know, I’ll use regular expressions.” Now they have two problems.\" — Jamie Zawinski \n",
    "       \n",
    "Ressources:\n",
    "- https://docs.python.org/3/library/re.html\n",
    "- https://docs.python.org/3/howto/regex.html#regex-howto"
   ]
  },
  {
   "cell_type": "markdown",
   "metadata": {},
   "source": [
    "#### Exemple: standardiser des adresses\n",
    "Solution avec les méthodes des strings:"
   ]
  },
  {
   "cell_type": "code",
   "execution_count": null,
   "metadata": {},
   "outputs": [],
   "source": [
    "s = '100 NORTH MAIN ROAD' \n",
    "s.replace('ROAD', 'RD.')  "
   ]
  },
  {
   "cell_type": "code",
   "execution_count": null,
   "metadata": {},
   "outputs": [],
   "source": [
    "s = '100 NORTH BROAD ROAD' \n",
    "s.replace('ROAD', 'RD.')"
   ]
  },
  {
   "cell_type": "markdown",
   "metadata": {},
   "source": [
    "=> Problème! "
   ]
  },
  {
   "cell_type": "code",
   "execution_count": null,
   "metadata": {},
   "outputs": [],
   "source": [
    "s[:-4] + s[-4:].replace('ROAD', 'RD.') "
   ]
  },
  {
   "cell_type": "markdown",
   "metadata": {},
   "source": [
    "Solution pas robuste...\n",
    "\n",
    "=> utilisation des expressions régulières (module `re`)"
   ]
  },
  {
   "cell_type": "code",
   "execution_count": null,
   "metadata": {},
   "outputs": [],
   "source": [
    "import re \n",
    "re.sub('ROAD$', 'RD.', s) \n",
    "'100 NORTH BROAD RD.' "
   ]
  },
  {
   "cell_type": "markdown",
   "metadata": {},
   "source": [
    "-`sub()` remplace `ROAD` à la fin d’un String par `RD.` dans `s`\n",
    "- -> `ROAD$` = expression régulière\n",
    "- `$` : fin du String\n",
    "- `^` : début du String\n",
    "- caractères spéciaux: `. ^ $ * + ? { } [ ] \\ | ( )`"
   ]
  },
  {
   "cell_type": "markdown",
   "metadata": {},
   "source": [
    "Il faut penser à tous les cas possibles…"
   ]
  },
  {
   "cell_type": "code",
   "execution_count": null,
   "metadata": {},
   "outputs": [],
   "source": [
    "#Problème: adresses ne se terminant pas par ROAD\n",
    "s = '100 BROAD' \n",
    "re.sub('ROAD$', 'RD.', s)"
   ]
  },
  {
   "cell_type": "code",
   "execution_count": null,
   "metadata": {},
   "outputs": [],
   "source": [
    "re.sub(r'\\bROAD$', 'RD.', s)"
   ]
  },
  {
   "cell_type": "markdown",
   "metadata": {},
   "source": [
    "ROAD est à la fin : `$`\n",
    "\n",
    "ET mot complet: `\\b` MAIS `\\` caractère spécial \n",
    "- –> `\\\\b` sinon Pyhon ne considère pas `\\`\n",
    "- –>  `r'String'` :  raw String, i.e  considère tout! \n"
   ]
  },
  {
   "cell_type": "code",
   "execution_count": null,
   "metadata": {},
   "outputs": [],
   "source": [
    "#Problème: ROAD ne se trouve pas à la fin du String\n",
    "s = '100 BROAD ROAD APT. 3' \n",
    "re.sub(r'\\bROAD$', 'RD.', s) "
   ]
  },
  {
   "cell_type": "code",
   "execution_count": null,
   "metadata": {},
   "outputs": [],
   "source": [
    "re.sub(r'\\bROAD\\b', 'RD.', s)"
   ]
  },
  {
   "cell_type": "markdown",
   "metadata": {},
   "source": [
    "Solution: `ROAD` se trouve quelque part dans le String\n",
    "- –>  `\\bROAD\\b`\n"
   ]
  },
  {
   "cell_type": "markdown",
   "metadata": {},
   "source": [
    "#### Exemple: chiffres romains"
   ]
  },
  {
   "cell_type": "markdown",
   "metadata": {},
   "source": [
    "7 caractères:\n",
    "\n",
    "- I = 1\n",
    "- V = 5\n",
    "- X = 10\n",
    "- L = 50\n",
    "- C = 100\n",
    "- D = 500\n",
    "- M = 1000\n",
    "\n",
    "Règles:\n",
    "\n",
    "- Addition : II, III, VI, VII, VIII, XI\n",
    "- Répétition (3x max) : MMM, CC, XXX\n",
    "- Soustraction : IV, IX, XC, CM\n",
    "- V, L et D ne peuvent être répéter: X et pas VV\n",
    "- Lecture de gauche à droite\n",
    "- Ordre a de l’importance : CD ≠ DC\n",
    "\n"
   ]
  },
  {
   "cell_type": "markdown",
   "metadata": {},
   "source": [
    "##### Vérification des milliers"
   ]
  },
  {
   "cell_type": "code",
   "execution_count": null,
   "metadata": {},
   "outputs": [],
   "source": [
    "pattern = '^M?M?M?$'"
   ]
  },
  {
   "cell_type": "markdown",
   "metadata": {},
   "source": [
    "Pattern a 3 parties:\n",
    "- `^M` : `M` au début. Si absent: peut commencer par n’importe quoi!\n",
    "- `?`  : correspond à 1 caractère  optionnel -> 3 `M` optionnels à la suite\n",
    "- `$`  : avec `^` le pattern doit correspondre au String complet!\n",
    "\n",
    "`search(pattern, str)` : \n",
    "- teste une correspondance  entre `str` et `pattern`.\n",
    "- Si oui : retourne un objet, sinon: retourne `None` "
   ]
  },
  {
   "cell_type": "code",
   "execution_count": null,
   "metadata": {},
   "outputs": [],
   "source": [
    "re.search(pattern, 'M')"
   ]
  },
  {
   "cell_type": "code",
   "execution_count": null,
   "metadata": {},
   "outputs": [],
   "source": [
    "re.search(pattern, 'MM') "
   ]
  },
  {
   "cell_type": "code",
   "execution_count": null,
   "metadata": {},
   "outputs": [],
   "source": [
    "re.search(pattern, 'MMM')"
   ]
  },
  {
   "cell_type": "code",
   "execution_count": null,
   "metadata": {},
   "outputs": [],
   "source": [
    "re.search(pattern, 'MMMM')"
   ]
  },
  {
   "cell_type": "code",
   "execution_count": null,
   "metadata": {},
   "outputs": [],
   "source": [
    "re.search(pattern, '')"
   ]
  },
  {
   "cell_type": "markdown",
   "metadata": {},
   "source": [
    "String vide correspond car les `M` sont tous optionnels!"
   ]
  },
  {
   "cell_type": "markdown",
   "metadata": {},
   "source": [
    "##### Vérification des centaines\n",
    "- Plus compliqué que les milliers:\n",
    "\n",
    "- 100 = C\n",
    "- 200 = CC\n",
    "- 300 = CCC\n",
    "- 400 = CD\n",
    "- 500 = D\n",
    "- 600 = DC\n",
    "- 700 = DCC\n",
    "- 800 = DCCC\n",
    "- 900 = CM\n",
    "\n",
    "**Patterns:**\n",
    "- CM\n",
    "- CD\n",
    "- 0 à 3 C (0 quand pas de centaines)\n",
    "- D suivi de 0 à 3 C\n",
    "\n",
    "=> 2 derniers peuvent être combinés:\n",
    "- D optionnel suivi de 0 à 3 C\n",
    "\n",
    "\n"
   ]
  },
  {
   "cell_type": "code",
   "execution_count": null,
   "metadata": {},
   "outputs": [],
   "source": [
    "pattern = '^M?M?M?(CM|CD|D?C?C?C?)$'"
   ]
  },
  {
   "cell_type": "markdown",
   "metadata": {},
   "source": [
    "- Débute comme le précédent\n",
    "- **`(x|y|z)` : 3 patterns mutuellement exclusif**\n",
    "- `?` : caractère spécial => `x?` match 0 ou 1 répétition de `x` (caractère `x` facultatif)"
   ]
  },
  {
   "cell_type": "code",
   "execution_count": null,
   "metadata": {},
   "outputs": [],
   "source": [
    "re.search(pattern, 'MCM')"
   ]
  },
  {
   "cell_type": "code",
   "execution_count": null,
   "metadata": {},
   "outputs": [],
   "source": [
    "re.search(pattern, 'MD')"
   ]
  },
  {
   "cell_type": "code",
   "execution_count": null,
   "metadata": {},
   "outputs": [],
   "source": [
    "re.search(pattern, 'MMMCCC')"
   ]
  },
  {
   "cell_type": "markdown",
   "metadata": {},
   "source": [
    "**OK** :\n",
    "- M optionnels au début\n",
    "- CM / D / CCC / C est un pattern dans ()\n"
   ]
  },
  {
   "cell_type": "code",
   "execution_count": null,
   "metadata": {},
   "outputs": [],
   "source": [
    "re.search(pattern, 'MCMC')"
   ]
  },
  {
   "cell_type": "markdown",
   "metadata": {},
   "source": [
    "**not OK** :\n",
    "- M optionnel au début, OK\n",
    "- CM, OK\n",
    "- MAIS `$` **not OK** à cause du dernier C  sans correspondance car `(x|y|z)` = patterns MUTUELLEMENT exclusifs!\n"
   ]
  },
  {
   "cell_type": "code",
   "execution_count": null,
   "metadata": {},
   "outputs": [],
   "source": [
    "re.search(pattern, '')"
   ]
  },
  {
   "cell_type": "markdown",
   "metadata": {},
   "source": [
    "##### Vérifications des dizaines"
   ]
  },
  {
   "cell_type": "code",
   "execution_count": null,
   "metadata": {},
   "outputs": [],
   "source": [
    "pattern = '^M?M?M?(CM|CD|D?C?C?C?)(XC|XL|L?X?X?X?)$' "
   ]
  },
  {
   "cell_type": "code",
   "execution_count": null,
   "metadata": {},
   "outputs": [],
   "source": [
    "re.search(pattern, 'MCMXL')"
   ]
  },
  {
   "cell_type": "code",
   "execution_count": null,
   "metadata": {},
   "outputs": [],
   "source": [
    "re.search(pattern, 'MCML') "
   ]
  },
  {
   "cell_type": "code",
   "execution_count": null,
   "metadata": {},
   "outputs": [],
   "source": [
    "re.search(pattern, 'MCMLX')"
   ]
  },
  {
   "cell_type": "code",
   "execution_count": null,
   "metadata": {},
   "outputs": [],
   "source": [
    "re.search(pattern, 'MCMLXXX') "
   ]
  },
  {
   "cell_type": "code",
   "execution_count": null,
   "metadata": {},
   "outputs": [],
   "source": [
    "re.search(pattern, 'MCMLXXXX')"
   ]
  },
  {
   "cell_type": "markdown",
   "metadata": {},
   "source": [
    "##### Vérification des unités"
   ]
  },
  {
   "cell_type": "code",
   "execution_count": null,
   "metadata": {},
   "outputs": [],
   "source": [
    "pattern = '^M?M?M?(CM|CD|D?C?C?C?)(XC|XL|L?X?X?X?)(IX|IV|V?I?I?I?)$'"
   ]
  },
  {
   "cell_type": "markdown",
   "metadata": {},
   "source": [
    "Améliorer la lisibilité du code en utilisant `{n|m}`\n",
    "- `X{n,m}` = pattern `X` répété entre n et m fois\n"
   ]
  },
  {
   "cell_type": "code",
   "execution_count": null,
   "metadata": {},
   "outputs": [],
   "source": [
    "pattern = '^M{0,3}$'"
   ]
  },
  {
   "cell_type": "code",
   "execution_count": null,
   "metadata": {},
   "outputs": [],
   "source": [
    "re.search(pattern, 'M')"
   ]
  },
  {
   "cell_type": "code",
   "execution_count": null,
   "metadata": {},
   "outputs": [],
   "source": [
    "re.search(pattern, 'MM')"
   ]
  },
  {
   "cell_type": "code",
   "execution_count": null,
   "metadata": {},
   "outputs": [],
   "source": [
    "re.search(pattern, 'MMM')"
   ]
  },
  {
   "cell_type": "code",
   "execution_count": null,
   "metadata": {},
   "outputs": [],
   "source": [
    "re.search(pattern, 'MMMM')"
   ]
  },
  {
   "cell_type": "markdown",
   "metadata": {},
   "source": [
    "##### Chiffre romains: Pattern final"
   ]
  },
  {
   "cell_type": "code",
   "execution_count": null,
   "metadata": {},
   "outputs": [],
   "source": [
    "pattern = '^(M{0,3})(CM|CD|D?C{0,3})(XC|XL|L?X{0,3})(IX|IV|V?I{0,3})$'"
   ]
  },
  {
   "cell_type": "markdown",
   "metadata": {},
   "source": [
    "- `(...)` indique le début et la fin d'un groupe"
   ]
  },
  {
   "cell_type": "code",
   "execution_count": null,
   "metadata": {},
   "outputs": [],
   "source": [
    "re.search(pattern, 'MDLV')"
   ]
  },
  {
   "cell_type": "code",
   "execution_count": null,
   "metadata": {},
   "outputs": [],
   "source": [
    "re.search(pattern, 'MMDCLXVI')"
   ]
  },
  {
   "cell_type": "code",
   "execution_count": null,
   "metadata": {},
   "outputs": [],
   "source": [
    "re.search(pattern, 'MMMDCCCLXXXVIII')"
   ]
  },
  {
   "cell_type": "code",
   "execution_count": null,
   "metadata": {},
   "outputs": [],
   "source": [
    "re.search(pattern, 'I')"
   ]
  },
  {
   "cell_type": "code",
   "execution_count": null,
   "metadata": {},
   "outputs": [],
   "source": [
    "match = re.search(pattern, 'MMMDCCCLXXXVIII')"
   ]
  },
  {
   "cell_type": "code",
   "execution_count": null,
   "metadata": {},
   "outputs": [],
   "source": [
    "match.groups()"
   ]
  },
  {
   "cell_type": "markdown",
   "metadata": {},
   "source": [
    "#### Expressions régulières documentées"
   ]
  },
  {
   "cell_type": "code",
   "execution_count": null,
   "metadata": {},
   "outputs": [],
   "source": [
    "pattern = '''\n",
    "    ^                   # beginning of string\n",
    "    (M{0,3})            # thousands - 0 to 3 Ms\n",
    "    (CM|CD|D?C{0,3})    # hundreds - 900 (CM), 400 (CD), 0-300 (0 to 3 Cs),\n",
    "                        #            or 500-800 (D, followed by 0 to 3 Cs)\n",
    "    (XC|XL|L?X{0,3})    # tens - 90 (XC), 40 (XL), 0-30 (0 to 3 Xs),\n",
    "                        #        or 50-80 (L, followed by 0 to 3 Xs)\n",
    "    (IX|IV|V?I{0,3})    # ones - 9 (IX), 4 (IV), 0-3 (0 to 3 Is),\n",
    "                        #        or 5-8 (V, followed by 0 to 3 Is)\n",
    "    $                   # end of string\n",
    "    ''' \n",
    "re.search(pattern, 'MCMLXXXIX', re.VERBOSE)"
   ]
  },
  {
   "cell_type": "markdown",
   "metadata": {},
   "source": [
    "doit utiliser le paramètre `re.VERBOSE`"
   ]
  },
  {
   "cell_type": "markdown",
   "metadata": {},
   "source": [
    "#### Exemple: numéros de téléphones US\n",
    "- Quand on a une correspondance, on peut en extraire des morceaux!"
   ]
  },
  {
   "cell_type": "markdown",
   "metadata": {},
   "source": [
    "- 800-555-1212\n",
    "- 800 555 1212\n",
    "- 800.555.1212\n",
    "- (800) 555-1212\n",
    "- 1-800-555-1212\n",
    "- 800-555-1212-1234\n",
    "- 800-555-1212x1234\n",
    "- 800-555-1212 ext. 1234\n",
    "- work 1-(800) 555.1212 #1234"
   ]
  },
  {
   "cell_type": "markdown",
   "metadata": {},
   "source": [
    "##### Essai 1"
   ]
  },
  {
   "cell_type": "code",
   "execution_count": null,
   "metadata": {},
   "outputs": [],
   "source": [
    "phonePattern = re.compile(r'^(\\d{3})-(\\d{3})-(\\d{4})$') "
   ]
  },
  {
   "cell_type": "markdown",
   "metadata": {},
   "source": [
    "- `compile()` : rendre la recherche plus efficace\n",
    "- `(x)` = groupe\n",
    "- `\\d` = chiffre 0-9\n",
    "- `{k}` = exactement k répétitions"
   ]
  },
  {
   "cell_type": "code",
   "execution_count": null,
   "metadata": {},
   "outputs": [],
   "source": [
    "phonePattern.search('800-555-1212').groups() "
   ]
  },
  {
   "cell_type": "code",
   "execution_count": null,
   "metadata": {},
   "outputs": [],
   "source": [
    "phonePattern.search('800-555-1212-1234') "
   ]
  },
  {
   "cell_type": "code",
   "execution_count": null,
   "metadata": {},
   "outputs": [],
   "source": [
    "phonePattern.search('800-555-1212-1234') .groups()"
   ]
  },
  {
   "cell_type": "markdown",
   "metadata": {},
   "source": [
    "##### Essai 2: ajout des extensions"
   ]
  },
  {
   "cell_type": "code",
   "execution_count": null,
   "metadata": {},
   "outputs": [],
   "source": [
    "phonePattern = re.compile(r'^(\\d{3})-(\\d{3})-(\\d{4})-(\\d+)$') \n",
    "phonePattern.search('800-555-1212-1234').groups()"
   ]
  },
  {
   "cell_type": "markdown",
   "metadata": {},
   "source": [
    "- `+` : au moins 1 répétition"
   ]
  },
  {
   "cell_type": "code",
   "execution_count": null,
   "metadata": {},
   "outputs": [],
   "source": [
    "phonePattern.search('800 555 1212 1234') #no match"
   ]
  },
  {
   "cell_type": "code",
   "execution_count": null,
   "metadata": {},
   "outputs": [],
   "source": [
    "phonePattern.search('800-555-1212') # no match"
   ]
  },
  {
   "cell_type": "markdown",
   "metadata": {},
   "source": [
    "##### Essai 3: séparateurs entre groupes"
   ]
  },
  {
   "cell_type": "code",
   "execution_count": null,
   "metadata": {},
   "outputs": [],
   "source": [
    "phonePattern = re.compile(r'^(\\d{3})\\D+(\\d{3})\\D+(\\d{4})\\D+(\\d+)$')"
   ]
  },
  {
   "cell_type": "markdown",
   "metadata": {},
   "source": [
    "- `\\D` : tout sauf un chiffre"
   ]
  },
  {
   "cell_type": "code",
   "execution_count": null,
   "metadata": {},
   "outputs": [],
   "source": [
    "phonePattern.search('800 555 1212 1234').groups()"
   ]
  },
  {
   "cell_type": "code",
   "execution_count": null,
   "metadata": {},
   "outputs": [],
   "source": [
    "phonePattern.search('800-555-1212-1234').groups()"
   ]
  },
  {
   "cell_type": "code",
   "execution_count": null,
   "metadata": {},
   "outputs": [],
   "source": [
    "phonePattern.search('80055512121234')"
   ]
  },
  {
   "cell_type": "code",
   "execution_count": null,
   "metadata": {},
   "outputs": [],
   "source": [
    "phonePattern.search('800-555-1212')"
   ]
  },
  {
   "cell_type": "markdown",
   "metadata": {},
   "source": [
    "##### Essai 4: séparateurs facultatifs entre groupes"
   ]
  },
  {
   "cell_type": "code",
   "execution_count": null,
   "metadata": {},
   "outputs": [],
   "source": [
    "phonePattern = re.compile(r'^(\\d{3})\\D*(\\d{3})\\D*(\\d{4})\\D*(\\d*)$')"
   ]
  },
  {
   "cell_type": "markdown",
   "metadata": {},
   "source": [
    "- `*` :  0 ou + répétitions"
   ]
  },
  {
   "cell_type": "code",
   "execution_count": null,
   "metadata": {},
   "outputs": [],
   "source": [
    "phonePattern.search('80055512121234').groups()"
   ]
  },
  {
   "cell_type": "code",
   "execution_count": null,
   "metadata": {},
   "outputs": [],
   "source": [
    "phonePattern.search('800.555.1212 x1234').groups()"
   ]
  },
  {
   "cell_type": "code",
   "execution_count": null,
   "metadata": {},
   "outputs": [],
   "source": [
    "phonePattern.search('800-555-1212').groups()"
   ]
  },
  {
   "cell_type": "code",
   "execution_count": null,
   "metadata": {},
   "outputs": [],
   "source": [
    "phonePattern.search('(800)5551212 x1234')"
   ]
  },
  {
   "cell_type": "markdown",
   "metadata": {},
   "source": [
    "**not OK** pour `()` entourant 800"
   ]
  },
  {
   "cell_type": "markdown",
   "metadata": {},
   "source": [
    "##### Essai 5: Ignorer  ce qui se trouve au début"
   ]
  },
  {
   "cell_type": "code",
   "execution_count": null,
   "metadata": {},
   "outputs": [],
   "source": [
    "phonePattern = re.compile(r'(\\d{3})\\D*(\\d{3})\\D*(\\d{4})\\D*(\\d*)$')"
   ]
  },
  {
   "cell_type": "markdown",
   "metadata": {},
   "source": [
    "- Pas de `^`  => Recherche d’une correspondance, mais pas nécessairement au début!"
   ]
  },
  {
   "cell_type": "code",
   "execution_count": null,
   "metadata": {},
   "outputs": [],
   "source": [
    "phonePattern.search('work 1-(800) 555.1212 #1234').groups() "
   ]
  },
  {
   "cell_type": "code",
   "execution_count": null,
   "metadata": {},
   "outputs": [],
   "source": [
    "phonePattern.search('800-555-1212').groups() "
   ]
  },
  {
   "cell_type": "code",
   "execution_count": null,
   "metadata": {},
   "outputs": [],
   "source": [
    "phonePattern.search('80055512121234').groups() "
   ]
  },
  {
   "cell_type": "markdown",
   "metadata": {},
   "source": [
    "##### Etape finale: expression régulière documentée"
   ]
  },
  {
   "cell_type": "code",
   "execution_count": null,
   "metadata": {},
   "outputs": [],
   "source": [
    "phonePattern = re.compile(r'''\n",
    "                # don't match beginning of string, number can start anywhere\n",
    "    (\\d{3})     # area code is 3 digits (e.g. '800')\n",
    "    \\D*         # optional separator is any number of non-digits\n",
    "    (\\d{3})     # trunk is 3 digits (e.g. '555')\n",
    "    \\D*         # optional separator\n",
    "    (\\d{4})     # rest of number is 4 digits (e.g. '1212')\n",
    "    \\D*         # optional separator\n",
    "    (\\d*)       # extension is optional and can be any number of digits\n",
    "    $           # end of string\n",
    "    ''', re.VERBOSE)"
   ]
  },
  {
   "cell_type": "code",
   "execution_count": null,
   "metadata": {},
   "outputs": [],
   "source": [
    "phonePattern.search('work 1-(800) 555.1212 #1234').groups()"
   ]
  },
  {
   "cell_type": "markdown",
   "metadata": {},
   "source": [
    "### Résumé\n",
    "- `^`       : début de string\n",
    "- `$`       : fin d’un string\n",
    "- `\\b`      : caractère vide au début ou à la fin d’un mot\n",
    "- `\\d`      : caractère numérique\n",
    "- `\\D`      : caractère non-numérique\n",
    "- `x?`      : caractère x facultatif (0 ou 1 répétition de x)\n",
    "- `x*`      : 0 ou plus répétitions de x\n",
    "- `x+`      : au moins 1 répétiton de x\n",
    "- `x{m,n}`  : entre m et n répétitions de x\n",
    "- `(a|b|c)` : exactement a OU b OU c\n",
    "- `(x)`     : un groupe à récupérer via méthode groups()\n",
    "- `[xyz]` : groupe de caractères, e.g. [a-d] = caractères a, b, c, d\n",
    "- `.`    : tous les caractères sauf \\n\n",
    "- `\\s`   : caractères d’espacements\n",
    "\n"
   ]
  },
  {
   "cell_type": "markdown",
   "metadata": {},
   "source": [
    "### Exercice: générer le pluriel de mots anglais\n",
    "Règles (simplifiées):\n",
    "\n",
    "|Fin du mot| Action|\n",
    "|----------|-------|\n",
    "|S, X, Z   | + ES  |\n",
    "|Lettre différente de {a,e,i,o,u,d,g,k,p,r,t} + H| + ES|\n",
    "|Lettre différente de {aeiou} + Y | - Y + IES |\n",
    "|Tout le reste | +S|"
   ]
  },
  {
   "cell_type": "markdown",
   "metadata": {},
   "source": [
    "##### Substitutions\n",
    "`sub('in','out','str')`: remplace toutes les occurrences de in par out dans str "
   ]
  },
  {
   "cell_type": "code",
   "execution_count": null,
   "metadata": {},
   "outputs": [],
   "source": [
    "re.sub('[abc]', 'o', 'Mark')"
   ]
  },
  {
   "cell_type": "code",
   "execution_count": null,
   "metadata": {},
   "outputs": [],
   "source": [
    "re.sub('[abc]', 'o', 'rock')"
   ]
  },
  {
   "cell_type": "code",
   "execution_count": null,
   "metadata": {},
   "outputs": [],
   "source": [
    "re.sub('[abc]', 'o', 'caps')"
   ]
  },
  {
   "cell_type": "markdown",
   "metadata": {},
   "source": [
    "##### négation\n",
    "`[^x]` = tout sauf x => négation\n"
   ]
  },
  {
   "cell_type": "markdown",
   "metadata": {},
   "source": [
    "##### définissez la function plural qui prend un `noun` en argument et retourne son pluriel"
   ]
  },
  {
   "cell_type": "code",
   "execution_count": null,
   "metadata": {},
   "outputs": [],
   "source": [
    "def plural(noun):\n",
    "    pass"
   ]
  }
 ],
 "metadata": {
  "kernelspec": {
   "display_name": "Python 3",
   "language": "python",
   "name": "python3"
  },
  "language_info": {
   "codemirror_mode": {
    "name": "ipython",
    "version": 3
   },
   "file_extension": ".py",
   "mimetype": "text/x-python",
   "name": "python",
   "nbconvert_exporter": "python",
   "pygments_lexer": "ipython3",
   "version": "3.6.4"
  }
 },
 "nbformat": 4,
 "nbformat_minor": 2
}
