{
 "cells": [
  {
   "cell_type": "markdown",
   "metadata": {},
   "source": [
    "Here, I introduce basic notions of Jupyter and Python. I assume that you have some knowledge of programming (in MATLAB for example).\n",
    "You will need to have [anaconda](https://www.anaconda.com/download) for python 3 installed for the following.\n",
    "\n",
    "# Jupyter/IPython Notebook Quick Start Guide\n",
    "\n",
    "The following is partially taken from the [offical documentation](https://jupyter.readthedocs.io/en/latest/content-quickstart.html):\n",
    "\n",
    "## 1. What is the Jupyter Notebook?\n",
    "Notebook documents (or “notebooks”, all lower case) are documents produced by the Jupyter Notebook App, which contain both *computer code* (e.g. python) and *rich text elements* (paragraph, equations, figures, links, etc...). Notebook documents are both human-readable documents containing the analysis description and the results (figures, tables, etc..) as well as executable documents which can be run to perform data analysis."
   ]
  },
  {
   "cell_type": "code",
   "execution_count": null,
   "metadata": {},
   "outputs": [],
   "source": [
    "# press Shift+Enter to execute this cell\n",
    "print('This is a cell containing python code')\n"
   ]
  },
  {
   "cell_type": "code",
   "execution_count": null,
   "metadata": {},
   "outputs": [],
   "source": [
    "#we can also make figures\n",
    "import matplotlib.pyplot as plt\n",
    "import numpy as np\n",
    "% matplotlib inline\n",
    "x = np.linspace(-np.pi, np.pi, 100)\n",
    "plt.plot(x, np.sin(x))\n",
    "\n",
    "# Use `Tab` for completion and `Shift-Tab` for code info"
   ]
  },
  {
   "cell_type": "markdown",
   "metadata": {},
   "source": [
    "This is an equation formatted in LaTeX $y = \\sin(x)$\n",
    "\n",
    "double-click this cell to edit it"
   ]
  },
  {
   "cell_type": "markdown",
   "metadata": {},
   "source": [
    "## 2. Jupyter Notebook App\n",
    "The Jupyter Notebook App is a server-client application that allows editing and running notebook documents via a web browser.\n",
    "\n",
    "## 3. kernel\n",
    "A notebook kernel is a “computational engine” that executes the code contained in a Notebook document. The ipython kernel executes python code. Kernels for many other languages exist (official kernels).\n",
    "\n",
    "## 4. Notebook Dashboard\n",
    "\n",
    "The Notebook Dashboard is the component which is shown first when you launch Jupyter Notebook App. The Notebook Dashboard is mainly used to open notebook documents, and to manage the running kernels (visualize and shutdown).\n",
    "\n",
    "## 5. References\n",
    "\n",
    "- [Jupyter project ](https://jupyter.org/)\n",
    "- [Jupyter documentation](http://jupyter.readthedocs.io/en/latest/)\n",
    "- [Jupyter notebooks documentation](http://jupyter-notebook.readthedocs.io/en/latest/)\n",
    "- [Python Tutorial](https://docs.python.org/3/tutorial/)\n",
    "- [SciPy](https://www.scipy.org/)\n",
    "- [NumPy](http://www.numpy.org/)\n",
    "- [NumPy Quickstart](https://docs.scipy.org/doc/numpy-dev/user/quickstart.html)\n",
    "- [Matplotlib](https://matplotlib.org/)"
   ]
  }
 ],
 "metadata": {
  "anaconda-cloud": {},
  "kernelspec": {
   "display_name": "Python 3",
   "language": "python",
   "name": "python3"
  },
  "language_info": {
   "codemirror_mode": {
    "name": "ipython",
    "version": 3
   },
   "file_extension": ".py",
   "mimetype": "text/x-python",
   "name": "python",
   "nbconvert_exporter": "python",
   "pygments_lexer": "ipython3",
   "version": "3.6.4"
  }
 },
 "nbformat": 4,
 "nbformat_minor": 2
}
