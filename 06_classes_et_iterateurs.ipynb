{
 "cells": [
  {
   "cell_type": "markdown",
   "metadata": {},
   "source": [
    "# Classes et itérateurs\n",
    "\n",
    "Alexandre Bovet\n",
    "\n",
    "UNamur et UCLouvain\n",
    "\n",
    "alexandre.bovet@unamur.be\n"
   ]
  },
  {
   "cell_type": "markdown",
   "metadata": {},
   "source": [
    "### Programmation orienté objet (rappel)\n",
    "\n",
    "- Objet = structure de donnée\n",
    " - Attributs\n",
    " - Méthodes\n",
    " - Créé à partir d’un modèle = classe\n",
    " - Peut hérité d’autres objets\n",
    "\n",
    "| Student |\n",
    "|---------|\n",
    "| Age : int |\n",
    "|Gender : string|\n",
    "|Grades : float|\n",
    "|SetGrades(float)|\n",
    "|Print()|\n",
    "\n",
    "- objets: instances de la classe\n",
    "\n",
    "```python\n",
    "Jean = Student()\n",
    "Marie = Student()\n",
    "```\n"
   ]
  },
  {
   "cell_type": "markdown",
   "metadata": {},
   "source": [
    "### Classes\n",
    "Définition très simple:"
   ]
  },
  {
   "cell_type": "code",
   "execution_count": null,
   "metadata": {},
   "outputs": [],
   "source": [
    "class CremeFraiche:\n",
    "    pass"
   ]
  },
  {
   "cell_type": "markdown",
   "metadata": {},
   "source": [
    "- Python gère aussi l'héritage (pas traité ici)"
   ]
  },
  {
   "cell_type": "markdown",
   "metadata": {},
   "source": [
    "##### Initialisation de classes: `__init__`\n"
   ]
  },
  {
   "cell_type": "code",
   "execution_count": null,
   "metadata": {},
   "outputs": [],
   "source": [
    "class Student:\n",
    "    '''A class for students'''  # doc string de la class\n",
    "   \n",
    "    def __init__(self, age, name):\n",
    "        self.age = age\n",
    "        self.name = name"
   ]
  },
  {
   "cell_type": "markdown",
   "metadata": {},
   "source": [
    "- Similaire au constructeurs en C++\n",
    "- `self` = 1er argument de chaque méthode\n",
    "- `age` et `name`: variable d'instance\n",
    "- `__XXX__` : Méthodes spéciales qui ne sont pas appelée directement: appels géré par Python"
   ]
  },
  {
   "cell_type": "markdown",
   "metadata": {},
   "source": [
    "##### Instanciation de classes"
   ]
  },
  {
   "cell_type": "code",
   "execution_count": null,
   "metadata": {},
   "outputs": [],
   "source": [
    "std = Student(20,'Jean')\n",
    "std"
   ]
  },
  {
   "cell_type": "code",
   "execution_count": null,
   "metadata": {},
   "outputs": [],
   "source": [
    "std.__class__"
   ]
  },
  {
   "cell_type": "code",
   "execution_count": null,
   "metadata": {},
   "outputs": [],
   "source": [
    "std.__doc__"
   ]
  },
  {
   "cell_type": "code",
   "execution_count": null,
   "metadata": {},
   "outputs": [],
   "source": [
    "std.age"
   ]
  },
  {
   "cell_type": "markdown",
   "metadata": {},
   "source": [
    "##### Variables de classes\n",
    "\n",
    "- toutes les instances héritent de cette valeur (ici: `uni`)\n"
   ]
  },
  {
   "cell_type": "code",
   "execution_count": null,
   "metadata": {},
   "outputs": [],
   "source": [
    "class Student:\n",
    "    '''A class for students'''\n",
    "\n",
    "    uni = 'Namur'\n",
    "\n",
    "    def __init__(self, age, name):\n",
    "        self.age = age\n",
    "        self.name = name"
   ]
  },
  {
   "cell_type": "code",
   "execution_count": null,
   "metadata": {},
   "outputs": [],
   "source": [
    "s1 = Student(20,'Jean')\n",
    "s2 = Student(21,'Marie')\n",
    "\n",
    "print(s1.uni)\n",
    "print(s2.uni)"
   ]
  },
  {
   "cell_type": "code",
   "execution_count": null,
   "metadata": {},
   "outputs": [],
   "source": [
    "s2.uni = 'Wollongong'\n",
    "print(s1.uni)\n",
    "print(s2.uni)"
   ]
  },
  {
   "cell_type": "markdown",
   "metadata": {},
   "source": [
    "=> Changer la var. de classe d’une instance n’affecte pas les autres"
   ]
  },
  {
   "cell_type": "code",
   "execution_count": null,
   "metadata": {},
   "outputs": [],
   "source": [
    "s2.__class__.uni"
   ]
  },
  {
   "cell_type": "markdown",
   "metadata": {},
   "source": [
    "=> Var. classe inchangée"
   ]
  },
  {
   "cell_type": "code",
   "execution_count": null,
   "metadata": {},
   "outputs": [],
   "source": [
    "s1.__class__.uni = 'Liège'"
   ]
  },
  {
   "cell_type": "code",
   "execution_count": null,
   "metadata": {},
   "outputs": [],
   "source": [
    "print(s1.uni)\n",
    "print(s2.uni)\n",
    "\n",
    "print(s1.__class__.uni)\n",
    "print(s2.__class__.uni)"
   ]
  },
  {
   "cell_type": "markdown",
   "metadata": {},
   "source": [
    "=> Modifie les instances qui héritaient de la valeur de départ"
   ]
  },
  {
   "cell_type": "markdown",
   "metadata": {},
   "source": [
    "##### Méthodes"
   ]
  },
  {
   "cell_type": "code",
   "execution_count": null,
   "metadata": {},
   "outputs": [],
   "source": [
    "class Student:\n",
    "    '''A class for students'''\n",
    "  \n",
    "    uni = 'Namur'\n",
    "\n",
    "    def __init__(self, age, name):\n",
    "        self.age = age\n",
    "        self.name = name\n",
    "\n",
    "    def getOld(self):\n",
    "        self.age = self.age + 1"
   ]
  },
  {
   "cell_type": "code",
   "execution_count": null,
   "metadata": {},
   "outputs": [],
   "source": [
    "std = Student(20,'Jean')\n",
    "print(std.age)\n",
    "std.getOld()\n",
    "print(std.age)"
   ]
  },
  {
   "cell_type": "markdown",
   "metadata": {},
   "source": [
    "### Itérateurs\n",
    "- Type de classe spécifique\n",
    "\n",
    "- Partout dans Python (ingrédient secret):\n",
    " - Compréhension de listes: forme simple d’itérateur\n",
    " - Générateurs: manière compacte de construire un itérateur\n",
    "\n",
    "\n",
    "Ressources:\n",
    "- https://docs.python.org/3.6/library/stdtypes.html#iterator-types\n",
    "- http://www.diveintopython3.net/iterators.html"
   ]
  },
  {
   "cell_type": "markdown",
   "metadata": {},
   "source": [
    "##### Exemple: Fibonacci"
   ]
  },
  {
   "cell_type": "code",
   "execution_count": null,
   "metadata": {},
   "outputs": [],
   "source": [
    "class Fib:\n",
    "    '''iterator that yields numbers in the Fibonacci sequence'''\n",
    "\n",
    "    def __init__(self, max):\n",
    "        self.max = max\n",
    "\n",
    "    def __iter__(self):\n",
    "        self.a = 0\n",
    "        self.b = 1\n",
    "        return self\n",
    "\n",
    "    def __next__(self):\n",
    "        fib = self.a\n",
    "        if fib > self.max:\n",
    "            raise StopIteration\n",
    "        self.a, self.b = self.b, self.a + self.b\n",
    "        return fib\n"
   ]
  },
  {
   "cell_type": "markdown",
   "metadata": {},
   "source": [
    "Méthode `__iter__` : \n",
    "- crée l’état initial de l’itérateur  \n",
    "- doit retourner un itérateur, i.e un objet implémentant la méthode `__next__` et avec une exception `StopIteration`\n",
    "\n",
    "###### Utilisation:"
   ]
  },
  {
   "cell_type": "code",
   "execution_count": null,
   "metadata": {},
   "outputs": [],
   "source": [
    "for n in Fib(1000): \n",
    "    print(n, end=' ')"
   ]
  },
  {
   "cell_type": "markdown",
   "metadata": {},
   "source": [
    "### Exercice\n",
    "\n",
    "Créez une classe qui implémente un itérateur pour remplacer le générateur `rules` avec les propriétés suivantes:\n",
    "- Temps de démarage minimal: le fichier n'est pas lu en entier au début, mais reste ouvert et n'est lu seulement lorsqu'on en a besoin.\n",
    "- Peformance maximal : utilise un cache pour garder les fonctions en mémoire et lit le fichier qu'une seul fois au maximum.\n",
    "- Séparation du code et des données : les patterns sont sauvés dans le fichier uniquement.\n",
    "\n",
    "\n",
    "Solution: `examples/plural_iterator.py`"
   ]
  },
  {
   "cell_type": "code",
   "execution_count": null,
   "metadata": {},
   "outputs": [],
   "source": []
  }
 ],
 "metadata": {
  "kernelspec": {
   "display_name": "Python 3",
   "language": "python",
   "name": "python3"
  },
  "language_info": {
   "codemirror_mode": {
    "name": "ipython",
    "version": 3
   },
   "file_extension": ".py",
   "mimetype": "text/x-python",
   "name": "python",
   "nbconvert_exporter": "python",
   "pygments_lexer": "ipython3",
   "version": "3.6.4"
  }
 },
 "nbformat": 4,
 "nbformat_minor": 2
}
