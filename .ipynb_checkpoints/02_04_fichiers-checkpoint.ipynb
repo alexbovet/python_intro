{
 "cells": [
  {
   "cell_type": "markdown",
   "metadata": {},
   "source": [
    "# Fichiers et répertoires\n",
    "\n",
    "Alexandre Bovet\n",
    "\n",
    "UNamur et UCLouvain\n",
    "\n",
    "alexandre.bovet@unamur.be\n"
   ]
  },
  {
   "cell_type": "markdown",
   "metadata": {},
   "source": [
    "### Travailler avec les fichiers et les répertoires\n",
    "\n",
    "Modules `os` et `glob`\n",
    "\n",
    "- Manipulation des fichiers/répertoires\n",
    "- API unifiée pour Windows, Linux, Mac\n",
    "- Fournit avec Python"
   ]
  },
  {
   "cell_type": "markdown",
   "metadata": {},
   "source": [
    "#### Répertoire courant\n",
    "Si on veut importer un module qui n’est pas dans le répertoire courant, 2 solutions:\n",
    "- Modification de `sys.path`\n",
    "- On se déplace vers le répertoire contenant le module pour l’importer\n",
    "\n",
    "`os` fournit 2 fonctions pour nous aider: `getcwd()` et `chdir()`"
   ]
  },
  {
   "cell_type": "code",
   "execution_count": null,
   "metadata": {},
   "outputs": [],
   "source": [
    "import os \n",
    "print(os.getcwd()) "
   ]
  },
  {
   "cell_type": "code",
   "execution_count": null,
   "metadata": {},
   "outputs": [],
   "source": [
    "os.chdir('/home/alex/github_projects')\n",
    "print(os.getcwd())"
   ]
  },
  {
   "cell_type": "code",
   "execution_count": null,
   "metadata": {},
   "outputs": [],
   "source": [
    "os.chdir('/home/alex/github_projects/python_intro')"
   ]
  },
  {
   "cell_type": "code",
   "execution_count": null,
   "metadata": {},
   "outputs": [],
   "source": [
    "# essayez os.stat('nom dde fichier')"
   ]
  },
  {
   "cell_type": "markdown",
   "metadata": {},
   "source": [
    "#### Noms de fichiers et répertoires\n",
    "- Module `os.path` permet de manipuler les noms de fichiers/répertoires\n",
    "- Python fait beaucoup de travail à notre place: `\\` vs `/`, `répertoire home`,… "
   ]
  },
  {
   "cell_type": "code",
   "execution_count": null,
   "metadata": {},
   "outputs": [],
   "source": [
    "print(os.path.join('/Users/pilgrim/diveintopython3/examples/', 'humansize.py'))"
   ]
  },
  {
   "cell_type": "code",
   "execution_count": null,
   "metadata": {},
   "outputs": [],
   "source": [
    "print(os.path.join('/Users/pilgrim/diveintopython3/examples', 'humansize.py')) "
   ]
  },
  {
   "cell_type": "markdown",
   "metadata": {},
   "source": [
    "Les premiers arguments de `path.join` = répertoires\n",
    "Dernier argument: nom du fichier\n",
    "`path.join` concatène tout pour donner un chemin de fichier cohérent.\n"
   ]
  },
  {
   "cell_type": "code",
   "execution_count": null,
   "metadata": {},
   "outputs": [],
   "source": [
    "print(os.path.expanduser('~'))"
   ]
  },
  {
   "cell_type": "code",
   "execution_count": null,
   "metadata": {},
   "outputs": [],
   "source": [
    "print(os.path.join(os.path.expanduser('~'), 'diveintopython3', 'examples', 'humansize.py'))"
   ]
  },
  {
   "cell_type": "markdown",
   "metadata": {},
   "source": [
    "- `os.path` permet aussi de découper les chemins complets\n",
    "- Récupération du répertoire, nom de fichier, extension"
   ]
  },
  {
   "cell_type": "code",
   "execution_count": null,
   "metadata": {},
   "outputs": [],
   "source": [
    "pathname = '/Users/pilgrim/diveintopython3/examples/humansize.py'\n",
    "os.path.split(pathname)"
   ]
  },
  {
   "cell_type": "code",
   "execution_count": null,
   "metadata": {},
   "outputs": [],
   "source": [
    "(dirname, filename) = os.path.split(pathname)\n",
    "dirname"
   ]
  },
  {
   "cell_type": "code",
   "execution_count": null,
   "metadata": {},
   "outputs": [],
   "source": [
    "(shortname, extension) = os.path.splitext(filename)\n",
    "shortname"
   ]
  },
  {
   "cell_type": "code",
   "execution_count": null,
   "metadata": {},
   "outputs": [],
   "source": [
    "extension"
   ]
  },
  {
   "cell_type": "markdown",
   "metadata": {},
   "source": [
    "#### Lister les fichiers dans un répertoire"
   ]
  },
  {
   "cell_type": "markdown",
   "metadata": {},
   "source": [
    "`glob` pour explorer les répertoires avec des wildcards (`*`)"
   ]
  },
  {
   "cell_type": "code",
   "execution_count": null,
   "metadata": {},
   "outputs": [],
   "source": [
    "cd = os.getcwd()\n",
    "import glob\n",
    "glob.glob(cd + '/*.ipynb')"
   ]
  },
  {
   "cell_type": "markdown",
   "metadata": {},
   "source": [
    "### Ouverture de fichiers: `open()`\n"
   ]
  },
  {
   "cell_type": "code",
   "execution_count": null,
   "metadata": {},
   "outputs": [],
   "source": [
    "a_file = open('examples/chinese.txt', encoding='utf-8') "
   ]
  },
  {
   "cell_type": "markdown",
   "metadata": {},
   "source": [
    "Si on ne spécifie pas l'encodage, utilisation de celui par défaut (dépend du système!)"
   ]
  },
  {
   "cell_type": "code",
   "execution_count": null,
   "metadata": {},
   "outputs": [],
   "source": [
    "type(a_file)"
   ]
  },
  {
   "cell_type": "code",
   "execution_count": null,
   "metadata": {},
   "outputs": [],
   "source": [
    "a_file.name"
   ]
  },
  {
   "cell_type": "code",
   "execution_count": null,
   "metadata": {},
   "outputs": [],
   "source": [
    "a_file.encoding"
   ]
  },
  {
   "cell_type": "code",
   "execution_count": null,
   "metadata": {},
   "outputs": [],
   "source": [
    "a_file.mode"
   ]
  },
  {
   "cell_type": "markdown",
   "metadata": {},
   "source": [
    "`r` : mode lecture (par défaut). Autres modes: https://docs.python.org/3.6/library/io.html#module-interface"
   ]
  },
  {
   "cell_type": "markdown",
   "metadata": {},
   "source": [
    "#### Lire un fichier texte: `read()`\n",
    "\n",
    "Sauve tout le contenu dans un string"
   ]
  },
  {
   "cell_type": "code",
   "execution_count": null,
   "metadata": {},
   "outputs": [],
   "source": [
    "a_file = open('examples/chinese.txt', encoding='utf-8') \n",
    "a_file.read() "
   ]
  },
  {
   "cell_type": "code",
   "execution_count": null,
   "metadata": {},
   "outputs": [],
   "source": [
    "a_file.read()"
   ]
  },
  {
   "cell_type": "markdown",
   "metadata": {},
   "source": [
    "On est à la fin du fichier!"
   ]
  },
  {
   "cell_type": "markdown",
   "metadata": {},
   "source": [
    "Position dans un fichier: `seek()` + `tell()`"
   ]
  },
  {
   "cell_type": "code",
   "execution_count": null,
   "metadata": {},
   "outputs": [],
   "source": [
    "a_file.read()"
   ]
  },
  {
   "cell_type": "markdown",
   "metadata": {},
   "source": [
    "Déplacement vers byte en position 0"
   ]
  },
  {
   "cell_type": "code",
   "execution_count": null,
   "metadata": {},
   "outputs": [],
   "source": [
    "a_file.seek(0)"
   ]
  },
  {
   "cell_type": "code",
   "execution_count": null,
   "metadata": {},
   "outputs": [],
   "source": [
    "a_file.read(16) # Lecture de 16 caractères à partir de la position courante"
   ]
  },
  {
   "cell_type": "code",
   "execution_count": null,
   "metadata": {},
   "outputs": [],
   "source": [
    "a_file.read(1)"
   ]
  },
  {
   "cell_type": "code",
   "execution_count": null,
   "metadata": {},
   "outputs": [],
   "source": [
    "a_file.read(1)"
   ]
  },
  {
   "cell_type": "markdown",
   "metadata": {},
   "source": [
    "Récupération de la position courante en byte"
   ]
  },
  {
   "cell_type": "code",
   "execution_count": null,
   "metadata": {},
   "outputs": [],
   "source": [
    "a_file.tell()"
   ]
  },
  {
   "cell_type": "markdown",
   "metadata": {},
   "source": [
    "#### Fermeture de fichiers: `close()`"
   ]
  },
  {
   "cell_type": "code",
   "execution_count": null,
   "metadata": {},
   "outputs": [],
   "source": [
    "a_file.close()"
   ]
  },
  {
   "cell_type": "markdown",
   "metadata": {},
   "source": [
    "Après fermeture, objet stream existe toujours:"
   ]
  },
  {
   "cell_type": "code",
   "execution_count": null,
   "metadata": {},
   "outputs": [],
   "source": [
    "a_file.read()"
   ]
  },
  {
   "cell_type": "code",
   "execution_count": null,
   "metadata": {},
   "outputs": [],
   "source": [
    "a_file.closed"
   ]
  },
  {
   "cell_type": "markdown",
   "metadata": {},
   "source": [
    "#### Fermeture automatique de fichiers: `with`\n",
    "Création d’un *gestionnaire de contexte* pour a_file \n",
    "=> à la fin appel automatique à `close()`\n"
   ]
  },
  {
   "cell_type": "code",
   "execution_count": null,
   "metadata": {},
   "outputs": [],
   "source": [
    "with open('examples/chinese.txt', encoding='utf-8') as a_file:\n",
    "    a_file.seek(17)\n",
    "    a_character = a_file.read(1)\n",
    "    print(a_character)"
   ]
  },
  {
   "cell_type": "markdown",
   "metadata": {},
   "source": [
    "- Gestionnaire de contexte (`with`) s’applique à tout type d’objet ayant une methode `close()` ou `__exit__`\n",
    "- évite d'oublier de fermer un fichier (perte de données) ou d'utiliser un fichier fermé (erreurs)"
   ]
  },
  {
   "cell_type": "markdown",
   "metadata": {},
   "source": [
    "### Lecture ligne par ligne: `readline()`\n"
   ]
  },
  {
   "cell_type": "code",
   "execution_count": null,
   "metadata": {},
   "outputs": [],
   "source": [
    "line_number = 0\n",
    "with open('examples/file_read.txt', encoding='utf-8') as a_file:\n",
    "    file_header = next(a_file).strip()\n",
    "    print(file_header)\n",
    "    for a_line in a_file:\n",
    "        line_number += 1\n",
    "        print('{0:>4} {1}'.format(line_number, a_line.rstrip().split()[1]))"
   ]
  },
  {
   "cell_type": "markdown",
   "metadata": {},
   "source": [
    "### Ecriture dans des fichiers: `write()`\n",
    "Modes d’ouvertures:\n",
    "- Append – ajout à la fin du fichier : `'a'`\n",
    "- Ecriture – écrase le fichier existant : `'w'`\n"
   ]
  },
  {
   "cell_type": "code",
   "execution_count": null,
   "metadata": {},
   "outputs": [],
   "source": [
    "with open('test.log', mode='w', encoding='utf-8') as a_file:\n",
    "    a_file.write('test succeeded\\n')"
   ]
  },
  {
   "cell_type": "code",
   "execution_count": null,
   "metadata": {},
   "outputs": [],
   "source": [
    "with open('test.log', encoding='utf-8') as a_file: \n",
    "    print(a_file.read())"
   ]
  },
  {
   "cell_type": "code",
   "execution_count": null,
   "metadata": {},
   "outputs": [],
   "source": [
    "with open('test.log', mode='a', encoding='utf-8') as a_file:\n",
    "    a_file.write('and again\\n')"
   ]
  },
  {
   "cell_type": "code",
   "execution_count": null,
   "metadata": {},
   "outputs": [],
   "source": [
    "with open('test.log', encoding='utf-8') as a_file: \n",
    "    print(a_file.read())"
   ]
  }
 ],
 "metadata": {
  "kernelspec": {
   "display_name": "Python 3",
   "language": "python",
   "name": "python3"
  },
  "language_info": {
   "codemirror_mode": {
    "name": "ipython",
    "version": 3
   },
   "file_extension": ".py",
   "mimetype": "text/x-python",
   "name": "python",
   "nbconvert_exporter": "python",
   "pygments_lexer": "ipython3",
   "version": "3.6.4"
  }
 },
 "nbformat": 4,
 "nbformat_minor": 2
}
