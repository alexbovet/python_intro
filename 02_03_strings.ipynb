{
 "cells": [
  {
   "cell_type": "markdown",
   "metadata": {},
   "source": [
    "# Strings (Chaîne de caractères)\n",
    "\n",
    "Alexandre Bovet\n",
    "\n",
    "UNamur et UCLouvain\n",
    "\n",
    "alexandre.bovet@unamur.be\n"
   ]
  },
  {
   "cell_type": "markdown",
   "metadata": {},
   "source": [
    "### Unicode\n",
    "- Standard qui permet des échanges de textes dans différentes langues\n",
    "- Unicode est constitué d'un répertoire de 128 172 caractères\n",
    "- Offre plusieurs type d’encodage pour les caractères\n",
    "- **UTF-8**:\n",
    " - Type d’encodage des caractères Unicode\n",
    " - Identique sur n’importe quel ordinateur\n",
    "\n",
    "\n"
   ]
  },
  {
   "cell_type": "markdown",
   "metadata": {},
   "source": [
    "### Strings en Python"
   ]
  },
  {
   "cell_type": "markdown",
   "metadata": {},
   "source": [
    "Création de String: `' '` ou `\" \"`"
   ]
  },
  {
   "cell_type": "code",
   "execution_count": null,
   "metadata": {},
   "outputs": [],
   "source": [
    "s = '深入 Python' "
   ]
  },
  {
   "cell_type": "markdown",
   "metadata": {},
   "source": [
    "Longueur d’un String"
   ]
  },
  {
   "cell_type": "code",
   "execution_count": null,
   "metadata": {},
   "outputs": [],
   "source": [
    "len(s)"
   ]
  },
  {
   "cell_type": "markdown",
   "metadata": {},
   "source": [
    "Récupération d’un caractère (similaire aux listes)"
   ]
  },
  {
   "cell_type": "code",
   "execution_count": null,
   "metadata": {},
   "outputs": [],
   "source": [
    "s[0]"
   ]
  },
  {
   "cell_type": "markdown",
   "metadata": {},
   "source": [
    "Concaténation avec `+` (similaire aux listes)"
   ]
  },
  {
   "cell_type": "code",
   "execution_count": null,
   "metadata": {},
   "outputs": [],
   "source": [
    "s + ' 3' "
   ]
  },
  {
   "cell_type": "markdown",
   "metadata": {},
   "source": [
    "### Exemple d'utilisation:\n",
    "```python\n",
    "SUFFIXES = {1000: ['KB', 'MB', 'GB', 'TB', 'PB', 'EB', 'ZB', 'YB'],         \n",
    "            1024: ['KiB', 'MiB', 'GiB', 'TiB', 'PiB', 'EiB', 'ZiB', 'YiB']}\n",
    "\n",
    "def approximate_size(size, a_kilobyte_is_1024_bytes=True):\n",
    "    '''Convert a file size to human-readable form.                          \n",
    "    '''                                                                     \n",
    "    if size < 0:\n",
    "        raise ValueError('number must be non-negative')                     \n",
    "\n",
    "    multiple = 1024 if a_kilobyte_is_1024_bytes else 1000\n",
    "    for suffix in SUFFIXES[multiple]:\n",
    "        size /= multiple\n",
    "        if size < multiple:\n",
    "            return '{0:.1f} {1}'.format(size, suffix)                   \n",
    "\n",
    "    raise ValueError('number too large')\n",
    "    ```"
   ]
  },
  {
   "cell_type": "markdown",
   "metadata": {},
   "source": [
    "### Formater des Strings\n",
    "- Strings = objets => méthodes et attributs!\n",
    "\n",
    "Méthode `.format()`:\n",
    "- `{x}` = champ remplacé par argument `x` de format\n",
    "- Retourne un String"
   ]
  },
  {
   "cell_type": "code",
   "execution_count": null,
   "metadata": {},
   "outputs": [],
   "source": [
    "username = 'mark'\n",
    "password = 'PapayaWhip'\n",
    "\n",
    "\"{0}'s password is {1}\".format(username, password)"
   ]
  },
  {
   "cell_type": "markdown",
   "metadata": {},
   "source": [
    "- Expressions dans format peuvent être complexes"
   ]
  },
  {
   "cell_type": "code",
   "execution_count": null,
   "metadata": {},
   "outputs": [],
   "source": [
    "import humansize\n",
    "si_suffixes = humansize.SUFFIXES[1000]\n",
    "si_suffixes"
   ]
  },
  {
   "cell_type": "code",
   "execution_count": null,
   "metadata": {},
   "outputs": [],
   "source": [
    "'1000{0[0]} = 1{0[1]}'.format(si_suffixes)"
   ]
  },
  {
   "cell_type": "markdown",
   "metadata": {},
   "source": [
    "`{0}` = argument `x` de `format(x)` = `si_suffixes`\n",
    "Mais `si_suffixe` est une liste => `{0[i]}` = élément `i` de la liste\n",
    "\n",
    "**=> Format peut accéder aux objets et propriétés de structure de données**\n",
    "\n"
   ]
  },
  {
   "cell_type": "markdown",
   "metadata": {},
   "source": [
    "#### `format()` : Types d’arguments valide\n",
    "- Liste et accéder à une valeur par un indice\n",
    "- Dictionnaire et accéder à une valeur par une clé\n",
    "- Module et accéder aux variables et fonction par leur nom\n",
    "- Instance de classe et accéder à ses propriétés/méthodes par leur nom\n",
    "- N’importe quelle combinaison des types précédents"
   ]
  },
  {
   "cell_type": "code",
   "execution_count": null,
   "metadata": {},
   "outputs": [],
   "source": [
    "import humansize \n",
    "import sys \n",
    "'1MB = 1000{0.modules[humansize].SUFFIXES[1000][0]}'.format(sys)"
   ]
  },
  {
   "cell_type": "markdown",
   "metadata": {},
   "source": [
    "- Module `sys` a les infos sur la session en cours et a été importé\n",
    "- Modules importés dans la sessions sont dans le dictionnaire `sys.modules` : `{'nom':module}`"
   ]
  },
  {
   "cell_type": "code",
   "execution_count": null,
   "metadata": {},
   "outputs": [],
   "source": [
    "#essayez d'ecrire un code equivalent, en utilisant sys mais sans utiliser de string"
   ]
  },
  {
   "cell_type": "markdown",
   "metadata": {},
   "source": [
    "#### Spécifier des formats\n",
    "https://docs.python.org/3.6/library/string.html#format-specification-mini-language"
   ]
  },
  {
   "cell_type": "code",
   "execution_count": null,
   "metadata": {},
   "outputs": [],
   "source": [
    "'{0:.1f} {1}'.format(698.24, 'GB')"
   ]
  },
  {
   "cell_type": "markdown",
   "metadata": {},
   "source": [
    "`.1f` Définit le format de la valeur (printf en C)\n",
    "- `.1` -> arrondi à 1 décimale\n",
    "-  `f` -> notation décimale fixe pour nombre réels"
   ]
  },
  {
   "cell_type": "markdown",
   "metadata": {},
   "source": [
    "####  Opérations\n",
    "`splitlines()`, `lower()` et `count()`"
   ]
  },
  {
   "cell_type": "code",
   "execution_count": null,
   "metadata": {},
   "outputs": [],
   "source": [
    "# une string sur plusieures lignes avec ```\n",
    "s = '''Finished files are the re- \n",
    "sult of years of scientif- \n",
    "ic study combined with the \n",
    "experience of years.''' \n",
    "\n",
    "s.splitlines() #découpe un string sur plusieurs en une liste de strings"
   ]
  },
  {
   "cell_type": "code",
   "execution_count": null,
   "metadata": {},
   "outputs": [],
   "source": [
    "print(s.lower()) #Retourne le string original mais en minuscules"
   ]
  },
  {
   "cell_type": "code",
   "execution_count": null,
   "metadata": {},
   "outputs": [],
   "source": [
    "s.lower().count('f') #Nombre d’occurrence de ‘f’ (minuscule ou majuscules) dans le string"
   ]
  },
  {
   "cell_type": "markdown",
   "metadata": {},
   "source": [
    "#### Méthodes\n",
    "`split()` et transformation en un dictionnaire"
   ]
  },
  {
   "cell_type": "code",
   "execution_count": null,
   "metadata": {},
   "outputs": [],
   "source": [
    "query = 'user=pilgrim&database=master&password=PapayaWhip' \n",
    "a_list = query.split('&') \n",
    "a_list"
   ]
  },
  {
   "cell_type": "code",
   "execution_count": null,
   "metadata": {},
   "outputs": [],
   "source": [
    "a_list_of_lists = [v.split('=') for v in a_list if '=' in v]\n",
    "a_list_of_lists"
   ]
  },
  {
   "cell_type": "code",
   "execution_count": null,
   "metadata": {},
   "outputs": [],
   "source": [
    "a_dict = dict(a_list_of_lists)\n",
    "a_dict"
   ]
  },
  {
   "cell_type": "markdown",
   "metadata": {},
   "source": [
    "**Slicing** à la manière d’une liste"
   ]
  },
  {
   "cell_type": "code",
   "execution_count": null,
   "metadata": {},
   "outputs": [],
   "source": [
    "a_string = 'My alphabet starts where your alphabet ends.' \n",
    "a_string[3:11] "
   ]
  },
  {
   "cell_type": "code",
   "execution_count": null,
   "metadata": {},
   "outputs": [],
   "source": [
    "a_string[3:-3]"
   ]
  },
  {
   "cell_type": "code",
   "execution_count": null,
   "metadata": {},
   "outputs": [],
   "source": [
    "a_string[0:2]"
   ]
  },
  {
   "cell_type": "code",
   "execution_count": null,
   "metadata": {},
   "outputs": [],
   "source": [
    "a_string[:18]"
   ]
  },
  {
   "cell_type": "code",
   "execution_count": null,
   "metadata": {},
   "outputs": [],
   "source": [
    "a_string[18:]"
   ]
  },
  {
   "cell_type": "markdown",
   "metadata": {},
   "source": [
    "- `str.upper()` : transformer en str en majuscule\n",
    "- `str.capitalize()` : premier caractères en majuscule, le reste en minuscule\n",
    "- `str.replace()` : remplace les occurrences de old par new dans str\n",
    "- `str.find(sub)` : retourne l’indice de sub dans str, ou -1 si pas trouvé\n",
    "- `str.index(sub)` : idem find() mais renvoie ValueError si pas trouvé\n",
    "- `str.lstrip()` : retire les ‘blancs’ au début de str\n",
    "- `str.rstrip()` : retire les ‘blancs’ à la fin de str\n",
    "- `str.strip()` : retire les ‘blancs’ au début et à la fin de str\n",
    "- …\n",
    "\n",
    "https://docs.python.org/3.6/library/stdtypes.html#string-methods "
   ]
  }
 ],
 "metadata": {
  "kernelspec": {
   "display_name": "Python 3",
   "language": "python",
   "name": "python3"
  },
  "language_info": {
   "codemirror_mode": {
    "name": "ipython",
    "version": 3
   },
   "file_extension": ".py",
   "mimetype": "text/x-python",
   "name": "python",
   "nbconvert_exporter": "python",
   "pygments_lexer": "ipython3",
   "version": "3.6.4"
  }
 },
 "nbformat": 4,
 "nbformat_minor": 2
}
