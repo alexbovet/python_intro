{
 "cells": [
  {
   "cell_type": "markdown",
   "metadata": {},
   "source": [
    "# Modules et environements virtuels\n",
    "\n",
    "Alexandre Bovet\n",
    "\n",
    "UNamur et UCLouvain\n",
    "\n",
    "alexandre.bovet@unamur.be\n"
   ]
  },
  {
   "cell_type": "markdown",
   "metadata": {},
   "source": [
    "## Modules essentiels:\n",
    "\n",
    "**Numpy**\n",
    "- Calculs numériques\n",
    "- Manipulation de matrices ou tableaux multidimensionnels\n",
    "- Fonctions opérant sur ces tableaux\n",
    "- Similaire à Matlab\n",
    "- http://www.numpy.org\n",
    "\n",
    "**Scipy**\n",
    "- Complète Numpy\n",
    "- Algorithmes pour l’algèbre linéaire, matrices creuses, traitement d’image et de signaux, optimisation, transformées de Fourier, ...\n",
    "- http://www.scipy.org\n",
    "\n",
    "**Pandas**\n",
    "- Structure de données et algorithme pour l’analyse de données\n",
    "- DataFrames\n",
    "- Similaire à R mais DataFrames non limités par la quantité de mémoire vive!\n",
    "- http://pandas.pydata.org\n",
    "\n",
    "**Scikit-learn**\n",
    "- Base des outis de Data Science\n",
    "- Preprocessing, apprentissage (non) supervisé, sélection de modèles, validation, exemples de base de données,...\n",
    "- http://scikit-learn.org\n",
    "\n",
    "**Matplotlib**\n",
    "- Outils pour créer des (jolis) graphes\n",
    "- Graphes ‘à la Matlab’ dans le module pylab\n",
    "- http://matplotlib.org\n",
    "\n",
    "**Statsmodels**\n",
    "- Modèles statistiques : GLM, choix discrets, séries temporelles, statistiques descriptives, tests (non) paramétriques,...\n",
    "- http://statsmodels.sourceforge.net\n",
    "\n",
    "**Beautifulsoup**\n",
    "- Récupération de données dans des fichiers HTML et XML (Internet)\n",
    "- http://www.crummy.com/software/BeautifulSoup\n",
    "\n",
    "**NetworkX**\n",
    "- Création, manipulation, analyse de représentation graphique de réseaux\n",
    "- Algorithmes pour les graphes\n",
    "- http://networkx.github.io\n",
    "\n",
    "**graph-tool**\n",
    "- Manipulation and statistical analysis of graphs\n",
    "- Core data structures and algorithms are implemented in C++ (Boost Library)\n",
    "- Performance similaire a C++ \n",
    "- https://graph-tool.skewed.de/\n",
    "\n",
    "**Theano**\n",
    "- Définition, optimisation et évaluation d’expressions math avec des tableaux multidimensionnels\n",
    "- Outils pour créer des réseaux de neurones/apprentissages profonds\n",
    "- http://deeplearning.net/software/theano\n",
    "\n",
    "**Tensorflow**\n",
    "- Calculs numériques se basant sur les graphes\n",
    "- Outils pour créer des réseaux de neurones/apprentissages profonds\n",
    "- https://www.tensorflow.org"
   ]
  },
  {
   "cell_type": "markdown",
   "metadata": {},
   "source": [
    "## Installation/gestion des modules\n",
    "\n",
    "Gestionaire de packets:\n",
    "\n",
    "- `pip` (https://pip.pypa.io)\n",
    " - Recommandé par la Python Packaging Authority\n",
    " - `pip install --user \"nom_du_module\"`\n",
    "\n",
    "- `conda` (https://conda.io)\n",
    " - Gestionaire de la distribution Anaconda\n",
    " - `conda install \"nom du package\"`\n",
    "\n",
    "Sur Windows, taper 'cmd' dans la recherche pour ouvrir un terminal.\n",
    "Essayer `conda --version` pour verifier si Anaconda est dans le path.\n",
    "Sinon, rajouter Anaconda dans le path. Par example: `set PATH=%PATH%;C:\\Anaconda3;C:\\Anaconda3\\Scripts\\`\n"
   ]
  },
  {
   "cell_type": "markdown",
   "metadata": {},
   "source": [
    "### Environnements virtuels\n"
   ]
  },
  {
   "cell_type": "markdown",
   "metadata": {},
   "source": [
    "- Installations isolées de Python/modules :\n",
    "- Pas besoin des droits administrateur pour installer des nouveaux packages!\n",
    "- Environnements différent/isolés pour chaque projet\n",
    "- Permet d’utiliser différentes versions de librairies\n",
    "\n",
    "Avec Python `venv`\n",
    "- `python3 -m venv /path/to/new/virtual/environment`\n",
    "- https://docs.python.org/3/library/venv.html\n",
    "\n",
    "Avec conda:\n",
    "- `conda create --name myenv`\n",
    "- https://conda.io/docs/user-guide/tasks/manage-environments.html\n",
    "\n",
    "Pour **creer** un nouvel environement appelé 'myenv' avec tous les packets d'anaconda:\n",
    "\n",
    "`conda create -n myenv anaconda`\n",
    "\n",
    "Pour **activer** un environement:\n",
    "\n",
    "- Sous Windows: `activate myenv`\n",
    "- Sous Linux/MacOs: `source activate myenv`\n",
    "\n",
    "Pour **désactiver** un environement:\n",
    "\n",
    "- Sous Windows: `deactivate`\n",
    "- Sous Linux/MacOs: `source deactivate`"
   ]
  },
  {
   "cell_type": "markdown",
   "metadata": {},
   "source": [
    "## Environements de développment"
   ]
  },
  {
   "cell_type": "markdown",
   "metadata": {},
   "source": [
    "- Jupyter (http://jupyter.org/) \n",
    "- Spyder (https://pythonhosted.org/spyder/)\n",
    "- PyCharm (https://www.jetbrains.com/pycharm/)\n",
    "- Emacs (https://www.gnu.org/software/emacs/)\n",
    "- ..."
   ]
  }
 ],
 "metadata": {
  "kernelspec": {
   "display_name": "Python 3",
   "language": "python",
   "name": "python3"
  },
  "language_info": {
   "codemirror_mode": {
    "name": "ipython",
    "version": 3
   },
   "file_extension": ".py",
   "mimetype": "text/x-python",
   "name": "python",
   "nbconvert_exporter": "python",
   "pygments_lexer": "ipython3",
   "version": "3.6.4"
  }
 },
 "nbformat": 4,
 "nbformat_minor": 2
}
