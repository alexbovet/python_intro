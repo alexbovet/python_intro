{
 "cells": [
  {
   "cell_type": "markdown",
   "metadata": {},
   "source": [
    "# Sérialisation avec Pickle\n",
    "\n",
    "Alexandre Bovet\n",
    "\n",
    "UNamur et UCLouvain\n",
    "\n",
    "alexandre.bovet@unamur.be\n"
   ]
  },
  {
   "cell_type": "markdown",
   "metadata": {},
   "source": [
    "### Sérialisation\n",
    "- On a une structure de donnée en mémoire:\n",
    " - progrès en cours\n",
    "- On veut la sauver\n",
    " - pour la réutiliser plus tard\n",
    " - pour l’envoyer à quelqu’un\n",
    "- Données lues uniquement par le programme qui l’a généré\n",
    " - Interopérabilité pas importante\n",
    "\n",
    "**=> Module Pickle**"
   ]
  },
  {
   "cell_type": "markdown",
   "metadata": {},
   "source": [
    "### Pickle\n",
    "- Module de la librairie standard de Pyton\n",
    "- Rapide\n",
    "- Peut stocker des structures complexes:\n",
    " - Types de données natifs\n",
    " - Listes, Tuples, dictionnaires, ensembles\n",
    " - Fonctions, classes et instances de classes\n",
    "- Extensible"
   ]
  },
  {
   "cell_type": "markdown",
   "metadata": {},
   "source": [
    "##### Sauvegarde vers un fichier Pickle\n",
    "`pickle.dump()`"
   ]
  },
  {
   "cell_type": "code",
   "execution_count": null,
   "metadata": {},
   "outputs": [],
   "source": [
    "entry = {} \n",
    "entry['title'] = 'Dive into history, 2009 edition' \n",
    "entry['article_link'] = 'http://diveintomark.org/archives/2009/03/27/dive-into-history-2009-edition' \n",
    "entry['comments_link'] = None \n",
    "entry['internal_id'] = b'\\xDE\\xD5\\xB4\\xF8' \n",
    "entry['tags'] = ('diveintopython', 'docbook', 'html') \n",
    "entry['published'] = True \n",
    "import time \n",
    "entry['published_date'] = time.strptime('Fri Mar 27 22:20:42 2009') \n",
    "entry['published_date'] "
   ]
  },
  {
   "cell_type": "code",
   "execution_count": null,
   "metadata": {},
   "outputs": [],
   "source": [
    "import pickle \n",
    "with open('entry.pickle', 'wb') as f:  \n",
    "    pickle.dump(entry, f) \n"
   ]
  },
  {
   "cell_type": "markdown",
   "metadata": {},
   "source": [
    "##### Charger des données avec Pickle\n",
    "`pickle.load()`"
   ]
  },
  {
   "cell_type": "code",
   "execution_count": null,
   "metadata": {
    "scrolled": true
   },
   "outputs": [],
   "source": [
    "import pickle \n",
    "with open('entry.pickle', 'rb') as f: \n",
    "    entry2 = pickle.load(f)\n",
    "entry2"
   ]
  },
  {
   "cell_type": "markdown",
   "metadata": {},
   "source": [
    "### JSON – JavaScript Object Notation\n",
    "- Syntaxe pour sauver/échanger des données\n",
    "- Provient de JavaScript\n",
    "- Texte, facile à comprendre:\n",
    "`{ \"name\":\"John\", \"age\":31, \"city\":\"Namur\" }`\n",
    "- Utilisation répandue car peut être utiliser par n’importe quel langage"
   ]
  },
  {
   "cell_type": "markdown",
   "metadata": {},
   "source": [
    "##### Sauver des données dans un fichier JSON"
   ]
  },
  {
   "cell_type": "code",
   "execution_count": null,
   "metadata": {},
   "outputs": [],
   "source": [
    "#Création d’un dictionnaire sans byte et timestamp\n",
    "# (JSON ne peut pas les traiter nativement)\n",
    "basic_entry = {} \n",
    "basic_entry['id'] = 256 \n",
    "basic_entry['title'] = 'Dive into history, 2009 edition' \n",
    "basic_entry['tags'] = ('diveintopython', 'docbook', 'html') \n",
    "basic_entry['published'] = True \n",
    "basic_entry['comments_link'] = None \n",
    "\n",
    "import json \n",
    "with open('basic.json', mode='w', encoding='utf-8') as f: \n",
    "    json.dump(basic_entry, f) "
   ]
  },
  {
   "cell_type": "code",
   "execution_count": null,
   "metadata": {},
   "outputs": [],
   "source": [
    "!cat basic.json"
   ]
  },
  {
   "cell_type": "markdown",
   "metadata": {},
   "source": [
    "##### Pretty printing:"
   ]
  },
  {
   "cell_type": "code",
   "execution_count": null,
   "metadata": {},
   "outputs": [],
   "source": [
    "with open('basic-pretty.json', mode='w', encoding='utf-8') as f: \n",
    "    json.dump(basic_entry, f, indent=2)"
   ]
  },
  {
   "cell_type": "code",
   "execution_count": null,
   "metadata": {},
   "outputs": [],
   "source": [
    "!cat basic-pretty.json"
   ]
  },
  {
   "cell_type": "markdown",
   "metadata": {},
   "source": [
    "##### Charger de données avec JSON"
   ]
  },
  {
   "cell_type": "code",
   "execution_count": null,
   "metadata": {},
   "outputs": [],
   "source": [
    "import json \n",
    "with open('basic-pretty.json', 'r', encoding='utf-8') as f: \n",
    "    entry_json = json.load(f)\n",
    "entry_json    "
   ]
  },
  {
   "cell_type": "markdown",
   "metadata": {},
   "source": [
    "#### Types de données JSON vs Python\n",
    "|JSON|Python 3|\n",
    "|-----|-------|\n",
    "|object|dictionary|\n",
    "|array|list|\n",
    "|string|string|\n",
    "|integer|integer|\n",
    "|real number|float|\n",
    "|true|True|\n",
    "|false|False|\n",
    "|null|None|"
   ]
  }
 ],
 "metadata": {
  "kernelspec": {
   "display_name": "Python 3",
   "language": "python",
   "name": "python3"
  },
  "language_info": {
   "codemirror_mode": {
    "name": "ipython",
    "version": 3
   },
   "file_extension": ".py",
   "mimetype": "text/x-python",
   "name": "python",
   "nbconvert_exporter": "python",
   "pygments_lexer": "ipython3",
   "version": "3.6.4"
  }
 },
 "nbformat": 4,
 "nbformat_minor": 2
}
